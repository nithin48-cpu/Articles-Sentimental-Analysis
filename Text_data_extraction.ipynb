{
 "cells": [
  {
   "cell_type": "code",
   "execution_count": 1,
   "metadata": {},
   "outputs": [],
   "source": [
    "from IPython.core.interactiveshell import InteractiveShell\n",
    "InteractiveShell.ast_node_interactivity = \"all\""
   ]
  },
  {
   "cell_type": "code",
   "execution_count": 2,
   "metadata": {},
   "outputs": [],
   "source": [
    "import pandas as pd\n",
    "import numpy as np"
   ]
  },
  {
   "cell_type": "code",
   "execution_count": 3,
   "metadata": {},
   "outputs": [
    {
     "data": {
      "text/html": [
       "<div>\n",
       "<style scoped>\n",
       "    .dataframe tbody tr th:only-of-type {\n",
       "        vertical-align: middle;\n",
       "    }\n",
       "\n",
       "    .dataframe tbody tr th {\n",
       "        vertical-align: top;\n",
       "    }\n",
       "\n",
       "    .dataframe thead th {\n",
       "        text-align: right;\n",
       "    }\n",
       "</style>\n",
       "<table border=\"1\" class=\"dataframe\">\n",
       "  <thead>\n",
       "    <tr style=\"text-align: right;\">\n",
       "      <th></th>\n",
       "      <th>URL_ID</th>\n",
       "      <th>URL</th>\n",
       "    </tr>\n",
       "  </thead>\n",
       "  <tbody>\n",
       "    <tr>\n",
       "      <th>0</th>\n",
       "      <td>123.0</td>\n",
       "      <td>https://insights.blackcoffer.com/rise-of-telem...</td>\n",
       "    </tr>\n",
       "    <tr>\n",
       "      <th>1</th>\n",
       "      <td>321.0</td>\n",
       "      <td>https://insights.blackcoffer.com/rise-of-e-hea...</td>\n",
       "    </tr>\n",
       "    <tr>\n",
       "      <th>2</th>\n",
       "      <td>2345.0</td>\n",
       "      <td>https://insights.blackcoffer.com/rise-of-e-hea...</td>\n",
       "    </tr>\n",
       "    <tr>\n",
       "      <th>3</th>\n",
       "      <td>4321.0</td>\n",
       "      <td>https://insights.blackcoffer.com/rise-of-telem...</td>\n",
       "    </tr>\n",
       "    <tr>\n",
       "      <th>4</th>\n",
       "      <td>432.0</td>\n",
       "      <td>https://insights.blackcoffer.com/rise-of-telem...</td>\n",
       "    </tr>\n",
       "  </tbody>\n",
       "</table>\n",
       "</div>"
      ],
      "text/plain": [
       "   URL_ID                                                URL\n",
       "0   123.0  https://insights.blackcoffer.com/rise-of-telem...\n",
       "1   321.0  https://insights.blackcoffer.com/rise-of-e-hea...\n",
       "2  2345.0  https://insights.blackcoffer.com/rise-of-e-hea...\n",
       "3  4321.0  https://insights.blackcoffer.com/rise-of-telem...\n",
       "4   432.0  https://insights.blackcoffer.com/rise-of-telem..."
      ]
     },
     "execution_count": 3,
     "metadata": {},
     "output_type": "execute_result"
    }
   ],
   "source": [
    "df_link=pd.read_excel('input.xlsx')\n",
    "df_link.head()"
   ]
  },
  {
   "cell_type": "code",
   "execution_count": 4,
   "metadata": {},
   "outputs": [
    {
     "data": {
      "text/plain": [
       "Index(['URL_ID', 'URL'], dtype='object')"
      ]
     },
     "execution_count": 4,
     "metadata": {},
     "output_type": "execute_result"
    }
   ],
   "source": [
    "df_link.columns"
   ]
  },
  {
   "cell_type": "code",
   "execution_count": 5,
   "metadata": {},
   "outputs": [
    {
     "data": {
      "text/plain": [
       "(114, 2)"
      ]
     },
     "execution_count": 5,
     "metadata": {},
     "output_type": "execute_result"
    }
   ],
   "source": [
    "df_link.shape"
   ]
  },
  {
   "cell_type": "code",
   "execution_count": 6,
   "metadata": {},
   "outputs": [
    {
     "name": "stdout",
     "output_type": "stream",
     "text": [
      "<class 'pandas.core.frame.DataFrame'>\n",
      "RangeIndex: 114 entries, 0 to 113\n",
      "Data columns (total 2 columns):\n",
      " #   Column  Non-Null Count  Dtype  \n",
      "---  ------  --------------  -----  \n",
      " 0   URL_ID  114 non-null    float64\n",
      " 1   URL     114 non-null    object \n",
      "dtypes: float64(1), object(1)\n",
      "memory usage: 1.9+ KB\n"
     ]
    }
   ],
   "source": [
    "df_link.info()"
   ]
  },
  {
   "cell_type": "code",
   "execution_count": 7,
   "metadata": {},
   "outputs": [
    {
     "data": {
      "text/plain": [
       "'https://insights.blackcoffer.com/rise-of-telemedicine-and-its-impact-on-livelihood-by-2040-3-2/'"
      ]
     },
     "execution_count": 7,
     "metadata": {},
     "output_type": "execute_result"
    }
   ],
   "source": [
    "string=str(df_link['URL'][0])\n",
    "string"
   ]
  },
  {
   "cell_type": "code",
   "execution_count": 8,
   "metadata": {},
   "outputs": [
    {
     "name": "stdout",
     "output_type": "stream",
     "text": [
      "<class 'str'>\n"
     ]
    }
   ],
   "source": [
    "print(type(string))"
   ]
  },
  {
   "cell_type": "code",
   "execution_count": 9,
   "metadata": {},
   "outputs": [
    {
     "data": {
      "text/plain": [
       "URL_ID    0\n",
       "URL       0\n",
       "dtype: int64"
      ]
     },
     "execution_count": 9,
     "metadata": {},
     "output_type": "execute_result"
    }
   ],
   "source": [
    "df_link.isnull().sum()"
   ]
  },
  {
   "cell_type": "code",
   "execution_count": 10,
   "metadata": {},
   "outputs": [
    {
     "data": {
      "text/plain": [
       "0"
      ]
     },
     "execution_count": 10,
     "metadata": {},
     "output_type": "execute_result"
    }
   ],
   "source": [
    "df_link.duplicated().sum()"
   ]
  },
  {
   "cell_type": "code",
   "execution_count": 11,
   "metadata": {},
   "outputs": [
    {
     "data": {
      "text/plain": [
       "0      https://insights.blackcoffer.com/rise-of-telem...\n",
       "1      https://insights.blackcoffer.com/rise-of-e-hea...\n",
       "2      https://insights.blackcoffer.com/rise-of-e-hea...\n",
       "3      https://insights.blackcoffer.com/rise-of-telem...\n",
       "4      https://insights.blackcoffer.com/rise-of-telem...\n",
       "                             ...                        \n",
       "109    https://insights.blackcoffer.com/coronavirus-i...\n",
       "110    https://insights.blackcoffer.com/coronavirus-i...\n",
       "111    https://insights.blackcoffer.com/what-are-the-...\n",
       "112    https://insights.blackcoffer.com/marketing-dri...\n",
       "113    https://insights.blackcoffer.com/continued-dem...\n",
       "Name: URL, Length: 114, dtype: object"
      ]
     },
     "execution_count": 11,
     "metadata": {},
     "output_type": "execute_result"
    },
    {
     "name": "stdout",
     "output_type": "stream",
     "text": [
      "<class 'pandas.core.series.Series'>\n"
     ]
    }
   ],
   "source": [
    "df_link['URL'].apply(lambda x: str(x))\n",
    "print(type(df_link['URL']))\n"
   ]
  },
  {
   "cell_type": "code",
   "execution_count": 12,
   "metadata": {},
   "outputs": [],
   "source": [
    "# print(type(d))"
   ]
  },
  {
   "cell_type": "code",
   "execution_count": 13,
   "metadata": {},
   "outputs": [],
   "source": [
    "import requests\n",
    "from bs4 import BeautifulSoup\n",
    "from selenium import webdriver\n",
    "\n",
    "# response=requests.get(d[0])\n",
    "# response.content"
   ]
  },
  {
   "cell_type": "code",
   "execution_count": 14,
   "metadata": {},
   "outputs": [],
   "source": [
    "global index\n",
    "index=0\n",
    "def extract(url):\n",
    "    # print(url)\n",
    "    global index\n",
    "    response = requests.get(url=url).content\n",
    "    soup = BeautifulSoup(response, 'lxml')\n",
    "    title=soup.find('h1',{'class':\"entry-title\"})\n",
    "    tag = soup.find('div',{'class':\"td-post-content tagdiv-type\"})  \n",
    "    if title==None and tag==None:\n",
    "        title=soup.find('h1',{'class':\"tdb-title-text\"})\n",
    "        tag = soup.find('div',{'class':\"tdb-block-inner td-fix-index\"})\n",
    "        if title ==None:\n",
    "            print(\"Index : \",index,\" \",url)\n",
    "            return\n",
    "        p=tag.find_all(\"p\")\n",
    "        l=[span.text.lower() for span in p]\n",
    "        l.insert(0,title.text.lower())\n",
    "        index+=1\n",
    "        return ' '.join(l)\n",
    "    p=tag.find_all(\"p\")\n",
    "    l=[span.text.lower() for span in p]\n",
    "    l.insert(0,title.text.lower())\n",
    "    index+=1\n",
    "    return ' '.join(l)\n",
    "    "
   ]
  },
  {
   "cell_type": "code",
   "execution_count": 15,
   "metadata": {},
   "outputs": [],
   "source": [
    "global index\n",
    "index=0\n",
    "def extract(url):\n",
    "    # print(url)\n",
    "    global index\n",
    "    response = requests.get(url=url).content\n",
    "    soup = BeautifulSoup(response, 'html5lib')\n",
    "    title=soup.find('h1',{'class':\"entry-title\"})\n",
    "    tag = soup.find('div',{'class':\"td-pb-span8 td-main-content\"})  \n",
    "    # tag = soup.find('div',{'class':\"td-post-content tagdiv-type\"})  \n",
    "    if title==None and tag==None:\n",
    "        title=soup.find('h1',{'class':\"tdb-title-text\"})\n",
    "        tag = soup.find('div',{'class':\"tdb-block-inner td-fix-index\"})\n",
    "        if title ==None:\n",
    "            print(\"Index : \",index,\" \",url)\n",
    "            return\n",
    "        p=tag.find_all(\"p\")\n",
    "        l=[span.text.lower() for span in p]\n",
    "        l.insert(0,title.text.lower())\n",
    "        index+=1\n",
    "        return ' '.join(l)\n",
    "    p=tag.find_all(\"p\")\n",
    "    l=[span.text.lower() for span in p]\n",
    "    l.insert(0,title.text.lower())\n",
    "    index+=1\n",
    "    return ' '.join(l)"
   ]
  },
  {
   "cell_type": "code",
   "execution_count": 16,
   "metadata": {},
   "outputs": [],
   "source": [
    "from selenium.webdriver import Chrome\n",
    "from selenium.webdriver.common.by import By\n",
    "\n",
    "def extreme_Extraction(url_list):\n",
    "    driver=Chrome()\n",
    "    text_list=[]\n",
    "    for url in url_list:\n",
    "        driver.get(url)\n",
    "        tags=driver.find_elements(By.TAG_NAME,'p')\n",
    "        p_list=[i.text for i in tags]\n",
    "        p_list.remove('© All Right Reserved, Blackcoffer(OPC) Pvt. Ltd')\n",
    "        p_list.remove('Contact us: hello@blackcoffer.com')\n",
    "        p_list.remove('We provide intelligence, accelerate innovation and implement technology with extraordinary breadth and depth global insights into the big data,data-driven dashboards, applications development, and information management for organizations through combining unique, specialist services and high-lvel human expertise.')\n",
    "        p_list=[sent for sent in p_list if sent !=\"\"]\n",
    "        if p_list[0]==\"Sorry, but the page you are looking for doesn't exist.\":\n",
    "            p_list=None\n",
    "            text_list.append(p_list)\n",
    "            continue\n",
    "        text_list.append(' '.join(p_list))\n",
    "    driver.quit()\n",
    "    return text_list"
   ]
  },
  {
   "cell_type": "code",
   "execution_count": 17,
   "metadata": {},
   "outputs": [],
   "source": [
    "\n",
    "# Initialize a Selenium WebDriver\n",
    "# driver = webdriver.Chrome()\n",
    "# driver.get('https://insights.blackcoffer.com/rise-of-e-health-and-its-imapct-on-humans-by-the-year-2030/')\n",
    "\n",
    "# # Wait for the dynamic content to load\n",
    "# # (You may need to customize this based on the specific webpage)\n",
    "# # Then, get the page source and parse it with BeautifulSoup\n",
    "# page_source = driver.page_source\n",
    "# soup = BeautifulSoup(page_source, 'html.parser')\n",
    "\n",
    "# tag = soup.find('div', {'class': \"td-post-content tagdiv-type\"})\n",
    "\n",
    "# paragraphs = tag.find_all('p')\n",
    "\n",
    "# for paragraph in paragraphs:\n",
    "#     print(paragraph.text)\n",
    "# # Now, you can scrape the content with BeautifulSoup\n",
    "# # Close the WebDriver when done\n",
    "# driver.quit()"
   ]
  },
  {
   "cell_type": "code",
   "execution_count": 18,
   "metadata": {},
   "outputs": [],
   "source": [
    "# global index\n",
    "# index=0\n",
    "# def extract(url):\n",
    "#     # print(url)\n",
    "#     global index\n",
    "#     # response = requests.get(url=url).content\n",
    "#     driver = webdriver.Chrome()\n",
    "#     driver.get(url)\n",
    "#     response = driver.page_source\n",
    "#     soup = BeautifulSoup(response, 'html5lib')\n",
    "#     title=soup.find('h1',{'class':\"entry-title\"})\n",
    "#     tag = soup.find('div',{'class':\"td-post-content tagdiv-type\"})  \n",
    "#     if title==None and tag==None:\n",
    "#         title=soup.find('h1',{'class':\"tdb-title-text\"})\n",
    "#         tag = soup.find('div',{'class':\"tdb-block-inner td-fix-index\"})\n",
    "#         if title ==None:\n",
    "#             print(\"Index : \",index,\" \",url)\n",
    "#             return\n",
    "#         p=tag.find_all(\"p\")\n",
    "#         l=[span.text.lower() for span in p]\n",
    "#         l.insert(0,title.text.lower())\n",
    "#         index+=1\n",
    "#         return ' '.join(l)\n",
    "#     p=tag.find_all(\"p\")\n",
    "#     l=[span.text.lower() for span in p]\n",
    "#     l.insert(0,title.text.lower())\n",
    "#     index+=1\n",
    "#     return ' '.join(l)"
   ]
  },
  {
   "cell_type": "markdown",
   "metadata": {},
   "source": []
  },
  {
   "cell_type": "code",
   "execution_count": 19,
   "metadata": {},
   "outputs": [
    {
     "data": {
      "text/plain": [
       "0      Telemedicine, the use of technology to diagnos...\n",
       "1      The rise of e-health, or the use of electronic...\n",
       "2      2020 was the year the world was ravaged by the...\n",
       "3      “More gains on quality, affordability and acce...\n",
       "4      “More gains on quality, affordability and acce...\n",
       "                             ...                        \n",
       "109    Before jumping on the topic I would like to gi...\n",
       "110    As the coronavirus spreads around the world an...\n",
       "111    From Alibaba to Ping An and Google to Ford, co...\n",
       "112    When the British ruled India, many Indians acc...\n",
       "113    The business of business is no longer to do ju...\n",
       "Name: url_text, Length: 114, dtype: object"
      ]
     },
     "execution_count": 19,
     "metadata": {},
     "output_type": "execute_result"
    }
   ],
   "source": [
    "df_link['url_text']=extreme_Extraction(df_link['URL'])\n",
    "df_link['url_text']"
   ]
  },
  {
   "cell_type": "code",
   "execution_count": 20,
   "metadata": {},
   "outputs": [
    {
     "data": {
      "text/html": [
       "<div>\n",
       "<style scoped>\n",
       "    .dataframe tbody tr th:only-of-type {\n",
       "        vertical-align: middle;\n",
       "    }\n",
       "\n",
       "    .dataframe tbody tr th {\n",
       "        vertical-align: top;\n",
       "    }\n",
       "\n",
       "    .dataframe thead th {\n",
       "        text-align: right;\n",
       "    }\n",
       "</style>\n",
       "<table border=\"1\" class=\"dataframe\">\n",
       "  <thead>\n",
       "    <tr style=\"text-align: right;\">\n",
       "      <th></th>\n",
       "      <th>URL_ID</th>\n",
       "      <th>URL</th>\n",
       "      <th>url_text</th>\n",
       "    </tr>\n",
       "  </thead>\n",
       "  <tbody>\n",
       "    <tr>\n",
       "      <th>24</th>\n",
       "      <td>11668.0</td>\n",
       "      <td>https://insights.blackcoffer.com/how-neural-ne...</td>\n",
       "      <td>None</td>\n",
       "    </tr>\n",
       "  </tbody>\n",
       "</table>\n",
       "</div>"
      ],
      "text/plain": [
       "     URL_ID                                                URL url_text\n",
       "24  11668.0  https://insights.blackcoffer.com/how-neural-ne...     None"
      ]
     },
     "execution_count": 20,
     "metadata": {},
     "output_type": "execute_result"
    }
   ],
   "source": [
    "df_link[df_link.index==24]\n"
   ]
  },
  {
   "cell_type": "code",
   "execution_count": 21,
   "metadata": {},
   "outputs": [
    {
     "data": {
      "text/plain": [
       "(114, 3)"
      ]
     },
     "execution_count": 21,
     "metadata": {},
     "output_type": "execute_result"
    }
   ],
   "source": [
    "df_link.shape"
   ]
  },
  {
   "cell_type": "code",
   "execution_count": 22,
   "metadata": {},
   "outputs": [
    {
     "data": {
      "text/html": [
       "<div>\n",
       "<style scoped>\n",
       "    .dataframe tbody tr th:only-of-type {\n",
       "        vertical-align: middle;\n",
       "    }\n",
       "\n",
       "    .dataframe tbody tr th {\n",
       "        vertical-align: top;\n",
       "    }\n",
       "\n",
       "    .dataframe thead th {\n",
       "        text-align: right;\n",
       "    }\n",
       "</style>\n",
       "<table border=\"1\" class=\"dataframe\">\n",
       "  <thead>\n",
       "    <tr style=\"text-align: right;\">\n",
       "      <th></th>\n",
       "      <th>URL_ID</th>\n",
       "      <th>URL</th>\n",
       "      <th>url_text</th>\n",
       "    </tr>\n",
       "  </thead>\n",
       "  <tbody>\n",
       "    <tr>\n",
       "      <th>0</th>\n",
       "      <td>123.0</td>\n",
       "      <td>https://insights.blackcoffer.com/rise-of-telem...</td>\n",
       "      <td>Telemedicine, the use of technology to diagnos...</td>\n",
       "    </tr>\n",
       "    <tr>\n",
       "      <th>1</th>\n",
       "      <td>321.0</td>\n",
       "      <td>https://insights.blackcoffer.com/rise-of-e-hea...</td>\n",
       "      <td>The rise of e-health, or the use of electronic...</td>\n",
       "    </tr>\n",
       "    <tr>\n",
       "      <th>2</th>\n",
       "      <td>2345.0</td>\n",
       "      <td>https://insights.blackcoffer.com/rise-of-e-hea...</td>\n",
       "      <td>2020 was the year the world was ravaged by the...</td>\n",
       "    </tr>\n",
       "    <tr>\n",
       "      <th>3</th>\n",
       "      <td>4321.0</td>\n",
       "      <td>https://insights.blackcoffer.com/rise-of-telem...</td>\n",
       "      <td>“More gains on quality, affordability and acce...</td>\n",
       "    </tr>\n",
       "    <tr>\n",
       "      <th>4</th>\n",
       "      <td>432.0</td>\n",
       "      <td>https://insights.blackcoffer.com/rise-of-telem...</td>\n",
       "      <td>“More gains on quality, affordability and acce...</td>\n",
       "    </tr>\n",
       "    <tr>\n",
       "      <th>...</th>\n",
       "      <td>...</td>\n",
       "      <td>...</td>\n",
       "      <td>...</td>\n",
       "    </tr>\n",
       "    <tr>\n",
       "      <th>109</th>\n",
       "      <td>50921.0</td>\n",
       "      <td>https://insights.blackcoffer.com/coronavirus-i...</td>\n",
       "      <td>Before jumping on the topic I would like to gi...</td>\n",
       "    </tr>\n",
       "    <tr>\n",
       "      <th>110</th>\n",
       "      <td>51382.8</td>\n",
       "      <td>https://insights.blackcoffer.com/coronavirus-i...</td>\n",
       "      <td>As the coronavirus spreads around the world an...</td>\n",
       "    </tr>\n",
       "    <tr>\n",
       "      <th>111</th>\n",
       "      <td>51844.6</td>\n",
       "      <td>https://insights.blackcoffer.com/what-are-the-...</td>\n",
       "      <td>From Alibaba to Ping An and Google to Ford, co...</td>\n",
       "    </tr>\n",
       "    <tr>\n",
       "      <th>112</th>\n",
       "      <td>52306.4</td>\n",
       "      <td>https://insights.blackcoffer.com/marketing-dri...</td>\n",
       "      <td>When the British ruled India, many Indians acc...</td>\n",
       "    </tr>\n",
       "    <tr>\n",
       "      <th>113</th>\n",
       "      <td>52768.2</td>\n",
       "      <td>https://insights.blackcoffer.com/continued-dem...</td>\n",
       "      <td>The business of business is no longer to do ju...</td>\n",
       "    </tr>\n",
       "  </tbody>\n",
       "</table>\n",
       "<p>114 rows × 3 columns</p>\n",
       "</div>"
      ],
      "text/plain": [
       "      URL_ID                                                URL  \\\n",
       "0      123.0  https://insights.blackcoffer.com/rise-of-telem...   \n",
       "1      321.0  https://insights.blackcoffer.com/rise-of-e-hea...   \n",
       "2     2345.0  https://insights.blackcoffer.com/rise-of-e-hea...   \n",
       "3     4321.0  https://insights.blackcoffer.com/rise-of-telem...   \n",
       "4      432.0  https://insights.blackcoffer.com/rise-of-telem...   \n",
       "..       ...                                                ...   \n",
       "109  50921.0  https://insights.blackcoffer.com/coronavirus-i...   \n",
       "110  51382.8  https://insights.blackcoffer.com/coronavirus-i...   \n",
       "111  51844.6  https://insights.blackcoffer.com/what-are-the-...   \n",
       "112  52306.4  https://insights.blackcoffer.com/marketing-dri...   \n",
       "113  52768.2  https://insights.blackcoffer.com/continued-dem...   \n",
       "\n",
       "                                              url_text  \n",
       "0    Telemedicine, the use of technology to diagnos...  \n",
       "1    The rise of e-health, or the use of electronic...  \n",
       "2    2020 was the year the world was ravaged by the...  \n",
       "3    “More gains on quality, affordability and acce...  \n",
       "4    “More gains on quality, affordability and acce...  \n",
       "..                                                 ...  \n",
       "109  Before jumping on the topic I would like to gi...  \n",
       "110  As the coronavirus spreads around the world an...  \n",
       "111  From Alibaba to Ping An and Google to Ford, co...  \n",
       "112  When the British ruled India, many Indians acc...  \n",
       "113  The business of business is no longer to do ju...  \n",
       "\n",
       "[114 rows x 3 columns]"
      ]
     },
     "execution_count": 22,
     "metadata": {},
     "output_type": "execute_result"
    }
   ],
   "source": [
    "df_link"
   ]
  },
  {
   "cell_type": "code",
   "execution_count": 23,
   "metadata": {},
   "outputs": [
    {
     "name": "stdout",
     "output_type": "stream",
     "text": [
      "(1,)\n"
     ]
    },
    {
     "data": {
      "text/plain": [
       "str"
      ]
     },
     "execution_count": 23,
     "metadata": {},
     "output_type": "execute_result"
    }
   ],
   "source": [
    "text=df_link[df_link['URL_ID']==123.0]['url_text']\n",
    "print(text.shape)\n",
    "text=text.tolist()[0]\n",
    "type(text)"
   ]
  },
  {
   "cell_type": "code",
   "execution_count": 24,
   "metadata": {},
   "outputs": [
    {
     "data": {
      "text/plain": [
       "11091"
      ]
     },
     "execution_count": 24,
     "metadata": {},
     "output_type": "execute_result"
    },
    {
     "data": {
      "text/plain": [
       "3919"
      ]
     },
     "execution_count": 24,
     "metadata": {},
     "output_type": "execute_result"
    },
    {
     "data": {
      "text/plain": [
       "6863"
      ]
     },
     "execution_count": 24,
     "metadata": {},
     "output_type": "execute_result"
    },
    {
     "data": {
      "text/plain": [
       "8065"
      ]
     },
     "execution_count": 24,
     "metadata": {},
     "output_type": "execute_result"
    },
    {
     "data": {
      "text/plain": [
       "8065"
      ]
     },
     "execution_count": 24,
     "metadata": {},
     "output_type": "execute_result"
    },
    {
     "data": {
      "text/plain": [
       "7191"
      ]
     },
     "execution_count": 24,
     "metadata": {},
     "output_type": "execute_result"
    },
    {
     "data": {
      "text/plain": [
       "7041"
      ]
     },
     "execution_count": 24,
     "metadata": {},
     "output_type": "execute_result"
    },
    {
     "data": {
      "text/plain": [
       "10834"
      ]
     },
     "execution_count": 24,
     "metadata": {},
     "output_type": "execute_result"
    },
    {
     "data": {
      "text/plain": [
       "3144"
      ]
     },
     "execution_count": 24,
     "metadata": {},
     "output_type": "execute_result"
    },
    {
     "data": {
      "text/plain": [
       "6797"
      ]
     },
     "execution_count": 24,
     "metadata": {},
     "output_type": "execute_result"
    },
    {
     "data": {
      "text/plain": [
       "2478"
      ]
     },
     "execution_count": 24,
     "metadata": {},
     "output_type": "execute_result"
    },
    {
     "data": {
      "text/plain": [
       "8329"
      ]
     },
     "execution_count": 24,
     "metadata": {},
     "output_type": "execute_result"
    },
    {
     "data": {
      "text/plain": [
       "3511"
      ]
     },
     "execution_count": 24,
     "metadata": {},
     "output_type": "execute_result"
    },
    {
     "data": {
      "text/plain": [
       "6058"
      ]
     },
     "execution_count": 24,
     "metadata": {},
     "output_type": "execute_result"
    },
    {
     "data": {
      "text/plain": [
       "5578"
      ]
     },
     "execution_count": 24,
     "metadata": {},
     "output_type": "execute_result"
    },
    {
     "data": {
      "text/plain": [
       "7575"
      ]
     },
     "execution_count": 24,
     "metadata": {},
     "output_type": "execute_result"
    },
    {
     "data": {
      "text/plain": [
       "7096"
      ]
     },
     "execution_count": 24,
     "metadata": {},
     "output_type": "execute_result"
    },
    {
     "data": {
      "text/plain": [
       "12056"
      ]
     },
     "execution_count": 24,
     "metadata": {},
     "output_type": "execute_result"
    },
    {
     "data": {
      "text/plain": [
       "8403"
      ]
     },
     "execution_count": 24,
     "metadata": {},
     "output_type": "execute_result"
    },
    {
     "data": {
      "text/plain": [
       "10995"
      ]
     },
     "execution_count": 24,
     "metadata": {},
     "output_type": "execute_result"
    },
    {
     "data": {
      "text/plain": [
       "9390"
      ]
     },
     "execution_count": 24,
     "metadata": {},
     "output_type": "execute_result"
    },
    {
     "data": {
      "text/plain": [
       "10527"
      ]
     },
     "execution_count": 24,
     "metadata": {},
     "output_type": "execute_result"
    },
    {
     "data": {
      "text/plain": [
       "7544"
      ]
     },
     "execution_count": 24,
     "metadata": {},
     "output_type": "execute_result"
    },
    {
     "data": {
      "text/plain": [
       "4531"
      ]
     },
     "execution_count": 24,
     "metadata": {},
     "output_type": "execute_result"
    },
    {
     "data": {
      "text/plain": [
       "4"
      ]
     },
     "execution_count": 24,
     "metadata": {},
     "output_type": "execute_result"
    },
    {
     "data": {
      "text/plain": [
       "4138"
      ]
     },
     "execution_count": 24,
     "metadata": {},
     "output_type": "execute_result"
    },
    {
     "data": {
      "text/plain": [
       "12992"
      ]
     },
     "execution_count": 24,
     "metadata": {},
     "output_type": "execute_result"
    },
    {
     "data": {
      "text/plain": [
       "11629"
      ]
     },
     "execution_count": 24,
     "metadata": {},
     "output_type": "execute_result"
    },
    {
     "data": {
      "text/plain": [
       "7641"
      ]
     },
     "execution_count": 24,
     "metadata": {},
     "output_type": "execute_result"
    },
    {
     "data": {
      "text/plain": [
       "7451"
      ]
     },
     "execution_count": 24,
     "metadata": {},
     "output_type": "execute_result"
    },
    {
     "data": {
      "text/plain": [
       "9718"
      ]
     },
     "execution_count": 24,
     "metadata": {},
     "output_type": "execute_result"
    },
    {
     "data": {
      "text/plain": [
       "9573"
      ]
     },
     "execution_count": 24,
     "metadata": {},
     "output_type": "execute_result"
    },
    {
     "data": {
      "text/plain": [
       "3273"
      ]
     },
     "execution_count": 24,
     "metadata": {},
     "output_type": "execute_result"
    },
    {
     "data": {
      "text/plain": [
       "10461"
      ]
     },
     "execution_count": 24,
     "metadata": {},
     "output_type": "execute_result"
    },
    {
     "data": {
      "text/plain": [
       "4642"
      ]
     },
     "execution_count": 24,
     "metadata": {},
     "output_type": "execute_result"
    },
    {
     "data": {
      "text/plain": [
       "4617"
      ]
     },
     "execution_count": 24,
     "metadata": {},
     "output_type": "execute_result"
    },
    {
     "data": {
      "text/plain": [
       "1101"
      ]
     },
     "execution_count": 24,
     "metadata": {},
     "output_type": "execute_result"
    },
    {
     "data": {
      "text/plain": [
       "4"
      ]
     },
     "execution_count": 24,
     "metadata": {},
     "output_type": "execute_result"
    },
    {
     "data": {
      "text/plain": [
       "8493"
      ]
     },
     "execution_count": 24,
     "metadata": {},
     "output_type": "execute_result"
    },
    {
     "data": {
      "text/plain": [
       "4338"
      ]
     },
     "execution_count": 24,
     "metadata": {},
     "output_type": "execute_result"
    },
    {
     "data": {
      "text/plain": [
       "11274"
      ]
     },
     "execution_count": 24,
     "metadata": {},
     "output_type": "execute_result"
    },
    {
     "data": {
      "text/plain": [
       "4045"
      ]
     },
     "execution_count": 24,
     "metadata": {},
     "output_type": "execute_result"
    },
    {
     "data": {
      "text/plain": [
       "2224"
      ]
     },
     "execution_count": 24,
     "metadata": {},
     "output_type": "execute_result"
    },
    {
     "data": {
      "text/plain": [
       "4760"
      ]
     },
     "execution_count": 24,
     "metadata": {},
     "output_type": "execute_result"
    },
    {
     "data": {
      "text/plain": [
       "2989"
      ]
     },
     "execution_count": 24,
     "metadata": {},
     "output_type": "execute_result"
    },
    {
     "data": {
      "text/plain": [
       "2353"
      ]
     },
     "execution_count": 24,
     "metadata": {},
     "output_type": "execute_result"
    },
    {
     "data": {
      "text/plain": [
       "986"
      ]
     },
     "execution_count": 24,
     "metadata": {},
     "output_type": "execute_result"
    },
    {
     "data": {
      "text/plain": [
       "4695"
      ]
     },
     "execution_count": 24,
     "metadata": {},
     "output_type": "execute_result"
    },
    {
     "data": {
      "text/plain": [
       "1010"
      ]
     },
     "execution_count": 24,
     "metadata": {},
     "output_type": "execute_result"
    },
    {
     "data": {
      "text/plain": [
       "4504"
      ]
     },
     "execution_count": 24,
     "metadata": {},
     "output_type": "execute_result"
    },
    {
     "data": {
      "text/plain": [
       "834"
      ]
     },
     "execution_count": 24,
     "metadata": {},
     "output_type": "execute_result"
    },
    {
     "data": {
      "text/plain": [
       "2120"
      ]
     },
     "execution_count": 24,
     "metadata": {},
     "output_type": "execute_result"
    },
    {
     "data": {
      "text/plain": [
       "11101"
      ]
     },
     "execution_count": 24,
     "metadata": {},
     "output_type": "execute_result"
    },
    {
     "data": {
      "text/plain": [
       "10123"
      ]
     },
     "execution_count": 24,
     "metadata": {},
     "output_type": "execute_result"
    },
    {
     "data": {
      "text/plain": [
       "8651"
      ]
     },
     "execution_count": 24,
     "metadata": {},
     "output_type": "execute_result"
    },
    {
     "data": {
      "text/plain": [
       "4826"
      ]
     },
     "execution_count": 24,
     "metadata": {},
     "output_type": "execute_result"
    },
    {
     "data": {
      "text/plain": [
       "7952"
      ]
     },
     "execution_count": 24,
     "metadata": {},
     "output_type": "execute_result"
    },
    {
     "data": {
      "text/plain": [
       "2656"
      ]
     },
     "execution_count": 24,
     "metadata": {},
     "output_type": "execute_result"
    },
    {
     "data": {
      "text/plain": [
       "9904"
      ]
     },
     "execution_count": 24,
     "metadata": {},
     "output_type": "execute_result"
    },
    {
     "data": {
      "text/plain": [
       "5788"
      ]
     },
     "execution_count": 24,
     "metadata": {},
     "output_type": "execute_result"
    },
    {
     "data": {
      "text/plain": [
       "6299"
      ]
     },
     "execution_count": 24,
     "metadata": {},
     "output_type": "execute_result"
    },
    {
     "data": {
      "text/plain": [
       "5970"
      ]
     },
     "execution_count": 24,
     "metadata": {},
     "output_type": "execute_result"
    },
    {
     "data": {
      "text/plain": [
       "6853"
      ]
     },
     "execution_count": 24,
     "metadata": {},
     "output_type": "execute_result"
    },
    {
     "data": {
      "text/plain": [
       "5954"
      ]
     },
     "execution_count": 24,
     "metadata": {},
     "output_type": "execute_result"
    },
    {
     "data": {
      "text/plain": [
       "3951"
      ]
     },
     "execution_count": 24,
     "metadata": {},
     "output_type": "execute_result"
    },
    {
     "data": {
      "text/plain": [
       "1732"
      ]
     },
     "execution_count": 24,
     "metadata": {},
     "output_type": "execute_result"
    },
    {
     "data": {
      "text/plain": [
       "4665"
      ]
     },
     "execution_count": 24,
     "metadata": {},
     "output_type": "execute_result"
    },
    {
     "data": {
      "text/plain": [
       "7475"
      ]
     },
     "execution_count": 24,
     "metadata": {},
     "output_type": "execute_result"
    },
    {
     "data": {
      "text/plain": [
       "20731"
      ]
     },
     "execution_count": 24,
     "metadata": {},
     "output_type": "execute_result"
    },
    {
     "data": {
      "text/plain": [
       "10503"
      ]
     },
     "execution_count": 24,
     "metadata": {},
     "output_type": "execute_result"
    },
    {
     "data": {
      "text/plain": [
       "9665"
      ]
     },
     "execution_count": 24,
     "metadata": {},
     "output_type": "execute_result"
    },
    {
     "data": {
      "text/plain": [
       "796"
      ]
     },
     "execution_count": 24,
     "metadata": {},
     "output_type": "execute_result"
    },
    {
     "data": {
      "text/plain": [
       "5078"
      ]
     },
     "execution_count": 24,
     "metadata": {},
     "output_type": "execute_result"
    },
    {
     "data": {
      "text/plain": [
       "10872"
      ]
     },
     "execution_count": 24,
     "metadata": {},
     "output_type": "execute_result"
    },
    {
     "data": {
      "text/plain": [
       "10168"
      ]
     },
     "execution_count": 24,
     "metadata": {},
     "output_type": "execute_result"
    },
    {
     "data": {
      "text/plain": [
       "6428"
      ]
     },
     "execution_count": 24,
     "metadata": {},
     "output_type": "execute_result"
    },
    {
     "data": {
      "text/plain": [
       "10939"
      ]
     },
     "execution_count": 24,
     "metadata": {},
     "output_type": "execute_result"
    },
    {
     "data": {
      "text/plain": [
       "5839"
      ]
     },
     "execution_count": 24,
     "metadata": {},
     "output_type": "execute_result"
    },
    {
     "data": {
      "text/plain": [
       "7095"
      ]
     },
     "execution_count": 24,
     "metadata": {},
     "output_type": "execute_result"
    },
    {
     "data": {
      "text/plain": [
       "6579"
      ]
     },
     "execution_count": 24,
     "metadata": {},
     "output_type": "execute_result"
    },
    {
     "data": {
      "text/plain": [
       "7512"
      ]
     },
     "execution_count": 24,
     "metadata": {},
     "output_type": "execute_result"
    },
    {
     "data": {
      "text/plain": [
       "1022"
      ]
     },
     "execution_count": 24,
     "metadata": {},
     "output_type": "execute_result"
    },
    {
     "data": {
      "text/plain": [
       "6456"
      ]
     },
     "execution_count": 24,
     "metadata": {},
     "output_type": "execute_result"
    },
    {
     "data": {
      "text/plain": [
       "3811"
      ]
     },
     "execution_count": 24,
     "metadata": {},
     "output_type": "execute_result"
    },
    {
     "data": {
      "text/plain": [
       "7062"
      ]
     },
     "execution_count": 24,
     "metadata": {},
     "output_type": "execute_result"
    },
    {
     "data": {
      "text/plain": [
       "6194"
      ]
     },
     "execution_count": 24,
     "metadata": {},
     "output_type": "execute_result"
    },
    {
     "data": {
      "text/plain": [
       "885"
      ]
     },
     "execution_count": 24,
     "metadata": {},
     "output_type": "execute_result"
    },
    {
     "data": {
      "text/plain": [
       "3133"
      ]
     },
     "execution_count": 24,
     "metadata": {},
     "output_type": "execute_result"
    },
    {
     "data": {
      "text/plain": [
       "5793"
      ]
     },
     "execution_count": 24,
     "metadata": {},
     "output_type": "execute_result"
    },
    {
     "data": {
      "text/plain": [
       "3778"
      ]
     },
     "execution_count": 24,
     "metadata": {},
     "output_type": "execute_result"
    },
    {
     "data": {
      "text/plain": [
       "6520"
      ]
     },
     "execution_count": 24,
     "metadata": {},
     "output_type": "execute_result"
    },
    {
     "data": {
      "text/plain": [
       "6528"
      ]
     },
     "execution_count": 24,
     "metadata": {},
     "output_type": "execute_result"
    },
    {
     "data": {
      "text/plain": [
       "6513"
      ]
     },
     "execution_count": 24,
     "metadata": {},
     "output_type": "execute_result"
    },
    {
     "data": {
      "text/plain": [
       "4842"
      ]
     },
     "execution_count": 24,
     "metadata": {},
     "output_type": "execute_result"
    },
    {
     "data": {
      "text/plain": [
       "9215"
      ]
     },
     "execution_count": 24,
     "metadata": {},
     "output_type": "execute_result"
    },
    {
     "data": {
      "text/plain": [
       "9280"
      ]
     },
     "execution_count": 24,
     "metadata": {},
     "output_type": "execute_result"
    },
    {
     "data": {
      "text/plain": [
       "4622"
      ]
     },
     "execution_count": 24,
     "metadata": {},
     "output_type": "execute_result"
    },
    {
     "data": {
      "text/plain": [
       "10893"
      ]
     },
     "execution_count": 24,
     "metadata": {},
     "output_type": "execute_result"
    },
    {
     "data": {
      "text/plain": [
       "6947"
      ]
     },
     "execution_count": 24,
     "metadata": {},
     "output_type": "execute_result"
    },
    {
     "data": {
      "text/plain": [
       "2147"
      ]
     },
     "execution_count": 24,
     "metadata": {},
     "output_type": "execute_result"
    },
    {
     "data": {
      "text/plain": [
       "13521"
      ]
     },
     "execution_count": 24,
     "metadata": {},
     "output_type": "execute_result"
    },
    {
     "data": {
      "text/plain": [
       "8804"
      ]
     },
     "execution_count": 24,
     "metadata": {},
     "output_type": "execute_result"
    },
    {
     "data": {
      "text/plain": [
       "10376"
      ]
     },
     "execution_count": 24,
     "metadata": {},
     "output_type": "execute_result"
    },
    {
     "data": {
      "text/plain": [
       "11099"
      ]
     },
     "execution_count": 24,
     "metadata": {},
     "output_type": "execute_result"
    },
    {
     "data": {
      "text/plain": [
       "6058"
      ]
     },
     "execution_count": 24,
     "metadata": {},
     "output_type": "execute_result"
    },
    {
     "data": {
      "text/plain": [
       "11460"
      ]
     },
     "execution_count": 24,
     "metadata": {},
     "output_type": "execute_result"
    },
    {
     "data": {
      "text/plain": [
       "5144"
      ]
     },
     "execution_count": 24,
     "metadata": {},
     "output_type": "execute_result"
    },
    {
     "data": {
      "text/plain": [
       "8275"
      ]
     },
     "execution_count": 24,
     "metadata": {},
     "output_type": "execute_result"
    },
    {
     "data": {
      "text/plain": [
       "1750"
      ]
     },
     "execution_count": 24,
     "metadata": {},
     "output_type": "execute_result"
    },
    {
     "data": {
      "text/plain": [
       "2967"
      ]
     },
     "execution_count": 24,
     "metadata": {},
     "output_type": "execute_result"
    },
    {
     "data": {
      "text/plain": [
       "10515"
      ]
     },
     "execution_count": 24,
     "metadata": {},
     "output_type": "execute_result"
    },
    {
     "data": {
      "text/plain": [
       "10668"
      ]
     },
     "execution_count": 24,
     "metadata": {},
     "output_type": "execute_result"
    },
    {
     "data": {
      "text/plain": [
       "8627"
      ]
     },
     "execution_count": 24,
     "metadata": {},
     "output_type": "execute_result"
    },
    {
     "data": {
      "text/plain": [
       "4541"
      ]
     },
     "execution_count": 24,
     "metadata": {},
     "output_type": "execute_result"
    }
   ],
   "source": [
    "import os\n",
    "\n",
    "os.makedirs('Text_files',exist_ok=True)\n",
    "\n",
    "for url_id in df_link['URL_ID']:\n",
    "    #file_path=os.path.join('N:\\BlackCoffer','Text_files','{}.txt'.format(str(int(url_id))))\n",
    "    # file_path=r\"N:\\BlackCoffer\\New_folder\\Text_files\\{}.txt\".format(str(int(url_id)))\n",
    "    file_path=os.path.join(os.getcwd(),'Text_files','{}.txt'.format(str(int(url_id))))\n",
    "    file=open(file_path,'w',encoding='utf-8')\n",
    "    text=df_link[df_link['URL_ID']==url_id]['url_text']\n",
    "    # text=text.decode('utf-8').encode('cp850','replace').decode('cp850')\n",
    "    text=text.tolist()[0]\n",
    "    file.write(str(text))\n"
   ]
  },
  {
   "cell_type": "code",
   "execution_count": 25,
   "metadata": {},
   "outputs": [],
   "source": [
    "# df_link.drop(df.index[24], axis=0, inplace=True)\n",
    "# df_link.drop(df.index[36], axis=0, inplace=True)"
   ]
  },
  {
   "cell_type": "code",
   "execution_count": 26,
   "metadata": {},
   "outputs": [
    {
     "data": {
      "text/plain": [
       "(114, 3)"
      ]
     },
     "execution_count": 26,
     "metadata": {},
     "output_type": "execute_result"
    }
   ],
   "source": [
    "df_link.shape"
   ]
  },
  {
   "cell_type": "code",
   "execution_count": 27,
   "metadata": {},
   "outputs": [
    {
     "data": {
      "text/html": [
       "<div>\n",
       "<style scoped>\n",
       "    .dataframe tbody tr th:only-of-type {\n",
       "        vertical-align: middle;\n",
       "    }\n",
       "\n",
       "    .dataframe tbody tr th {\n",
       "        vertical-align: top;\n",
       "    }\n",
       "\n",
       "    .dataframe thead th {\n",
       "        text-align: right;\n",
       "    }\n",
       "</style>\n",
       "<table border=\"1\" class=\"dataframe\">\n",
       "  <thead>\n",
       "    <tr style=\"text-align: right;\">\n",
       "      <th></th>\n",
       "      <th>URL_ID</th>\n",
       "      <th>URL</th>\n",
       "      <th>url_text</th>\n",
       "    </tr>\n",
       "  </thead>\n",
       "  <tbody>\n",
       "    <tr>\n",
       "      <th>24</th>\n",
       "      <td>11668.0</td>\n",
       "      <td>https://insights.blackcoffer.com/how-neural-ne...</td>\n",
       "      <td>None</td>\n",
       "    </tr>\n",
       "  </tbody>\n",
       "</table>\n",
       "</div>"
      ],
      "text/plain": [
       "     URL_ID                                                URL url_text\n",
       "24  11668.0  https://insights.blackcoffer.com/how-neural-ne...     None"
      ]
     },
     "execution_count": 27,
     "metadata": {},
     "output_type": "execute_result"
    }
   ],
   "source": [
    "df_link[df_link.URL=='https://insights.blackcoffer.com/how-neural-networks-can-be-applied-in-various-areas-in-the-future/']"
   ]
  },
  {
   "cell_type": "code",
   "execution_count": 28,
   "metadata": {},
   "outputs": [
    {
     "name": "stderr",
     "output_type": "stream",
     "text": [
      "[nltk_data] Error loading punkt: <urlopen error [WinError 10060] A\n",
      "[nltk_data]     connection attempt failed because the connected party\n",
      "[nltk_data]     did not properly respond after a period of time, or\n",
      "[nltk_data]     established connection failed because connected host\n",
      "[nltk_data]     has failed to respond>\n"
     ]
    },
    {
     "data": {
      "text/plain": [
       "False"
      ]
     },
     "execution_count": 28,
     "metadata": {},
     "output_type": "execute_result"
    }
   ],
   "source": [
    "import nltk\n",
    "nltk.download('punkt')"
   ]
  },
  {
   "cell_type": "code",
   "execution_count": 29,
   "metadata": {},
   "outputs": [],
   "source": [
    "df_link['num_characters'] = df_link['url_text'].apply(lambda x:len(str(x)))"
   ]
  },
  {
   "cell_type": "code",
   "execution_count": 30,
   "metadata": {},
   "outputs": [],
   "source": [
    "df_link['num_words'] = df_link['url_text'].apply(lambda x:len(list(nltk.word_tokenize(str(x)))))"
   ]
  },
  {
   "cell_type": "code",
   "execution_count": 31,
   "metadata": {},
   "outputs": [],
   "source": [
    "df_link['num_sentencecs'] = df_link['url_text'].apply(lambda x:len(list(nltk.sent_tokenize(str(x)))))"
   ]
  },
  {
   "cell_type": "code",
   "execution_count": 32,
   "metadata": {},
   "outputs": [
    {
     "data": {
      "text/html": [
       "<div>\n",
       "<style scoped>\n",
       "    .dataframe tbody tr th:only-of-type {\n",
       "        vertical-align: middle;\n",
       "    }\n",
       "\n",
       "    .dataframe tbody tr th {\n",
       "        vertical-align: top;\n",
       "    }\n",
       "\n",
       "    .dataframe thead th {\n",
       "        text-align: right;\n",
       "    }\n",
       "</style>\n",
       "<table border=\"1\" class=\"dataframe\">\n",
       "  <thead>\n",
       "    <tr style=\"text-align: right;\">\n",
       "      <th></th>\n",
       "      <th>URL_ID</th>\n",
       "      <th>URL</th>\n",
       "      <th>url_text</th>\n",
       "      <th>num_characters</th>\n",
       "      <th>num_words</th>\n",
       "      <th>num_sentencecs</th>\n",
       "    </tr>\n",
       "  </thead>\n",
       "  <tbody>\n",
       "    <tr>\n",
       "      <th>0</th>\n",
       "      <td>123.0</td>\n",
       "      <td>https://insights.blackcoffer.com/rise-of-telem...</td>\n",
       "      <td>Telemedicine, the use of technology to diagnos...</td>\n",
       "      <td>11091</td>\n",
       "      <td>1837</td>\n",
       "      <td>79</td>\n",
       "    </tr>\n",
       "    <tr>\n",
       "      <th>1</th>\n",
       "      <td>321.0</td>\n",
       "      <td>https://insights.blackcoffer.com/rise-of-e-hea...</td>\n",
       "      <td>The rise of e-health, or the use of electronic...</td>\n",
       "      <td>3919</td>\n",
       "      <td>648</td>\n",
       "      <td>24</td>\n",
       "    </tr>\n",
       "    <tr>\n",
       "      <th>2</th>\n",
       "      <td>2345.0</td>\n",
       "      <td>https://insights.blackcoffer.com/rise-of-e-hea...</td>\n",
       "      <td>2020 was the year the world was ravaged by the...</td>\n",
       "      <td>6863</td>\n",
       "      <td>1199</td>\n",
       "      <td>68</td>\n",
       "    </tr>\n",
       "    <tr>\n",
       "      <th>3</th>\n",
       "      <td>4321.0</td>\n",
       "      <td>https://insights.blackcoffer.com/rise-of-telem...</td>\n",
       "      <td>“More gains on quality, affordability and acce...</td>\n",
       "      <td>8065</td>\n",
       "      <td>1354</td>\n",
       "      <td>59</td>\n",
       "    </tr>\n",
       "    <tr>\n",
       "      <th>4</th>\n",
       "      <td>432.0</td>\n",
       "      <td>https://insights.blackcoffer.com/rise-of-telem...</td>\n",
       "      <td>“More gains on quality, affordability and acce...</td>\n",
       "      <td>8065</td>\n",
       "      <td>1354</td>\n",
       "      <td>59</td>\n",
       "    </tr>\n",
       "    <tr>\n",
       "      <th>...</th>\n",
       "      <td>...</td>\n",
       "      <td>...</td>\n",
       "      <td>...</td>\n",
       "      <td>...</td>\n",
       "      <td>...</td>\n",
       "      <td>...</td>\n",
       "    </tr>\n",
       "    <tr>\n",
       "      <th>109</th>\n",
       "      <td>50921.0</td>\n",
       "      <td>https://insights.blackcoffer.com/coronavirus-i...</td>\n",
       "      <td>Before jumping on the topic I would like to gi...</td>\n",
       "      <td>2967</td>\n",
       "      <td>527</td>\n",
       "      <td>21</td>\n",
       "    </tr>\n",
       "    <tr>\n",
       "      <th>110</th>\n",
       "      <td>51382.8</td>\n",
       "      <td>https://insights.blackcoffer.com/coronavirus-i...</td>\n",
       "      <td>As the coronavirus spreads around the world an...</td>\n",
       "      <td>10515</td>\n",
       "      <td>1871</td>\n",
       "      <td>49</td>\n",
       "    </tr>\n",
       "    <tr>\n",
       "      <th>111</th>\n",
       "      <td>51844.6</td>\n",
       "      <td>https://insights.blackcoffer.com/what-are-the-...</td>\n",
       "      <td>From Alibaba to Ping An and Google to Ford, co...</td>\n",
       "      <td>10668</td>\n",
       "      <td>1885</td>\n",
       "      <td>70</td>\n",
       "    </tr>\n",
       "    <tr>\n",
       "      <th>112</th>\n",
       "      <td>52306.4</td>\n",
       "      <td>https://insights.blackcoffer.com/marketing-dri...</td>\n",
       "      <td>When the British ruled India, many Indians acc...</td>\n",
       "      <td>8627</td>\n",
       "      <td>1571</td>\n",
       "      <td>59</td>\n",
       "    </tr>\n",
       "    <tr>\n",
       "      <th>113</th>\n",
       "      <td>52768.2</td>\n",
       "      <td>https://insights.blackcoffer.com/continued-dem...</td>\n",
       "      <td>The business of business is no longer to do ju...</td>\n",
       "      <td>4541</td>\n",
       "      <td>746</td>\n",
       "      <td>27</td>\n",
       "    </tr>\n",
       "  </tbody>\n",
       "</table>\n",
       "<p>114 rows × 6 columns</p>\n",
       "</div>"
      ],
      "text/plain": [
       "      URL_ID                                                URL  \\\n",
       "0      123.0  https://insights.blackcoffer.com/rise-of-telem...   \n",
       "1      321.0  https://insights.blackcoffer.com/rise-of-e-hea...   \n",
       "2     2345.0  https://insights.blackcoffer.com/rise-of-e-hea...   \n",
       "3     4321.0  https://insights.blackcoffer.com/rise-of-telem...   \n",
       "4      432.0  https://insights.blackcoffer.com/rise-of-telem...   \n",
       "..       ...                                                ...   \n",
       "109  50921.0  https://insights.blackcoffer.com/coronavirus-i...   \n",
       "110  51382.8  https://insights.blackcoffer.com/coronavirus-i...   \n",
       "111  51844.6  https://insights.blackcoffer.com/what-are-the-...   \n",
       "112  52306.4  https://insights.blackcoffer.com/marketing-dri...   \n",
       "113  52768.2  https://insights.blackcoffer.com/continued-dem...   \n",
       "\n",
       "                                              url_text  num_characters  \\\n",
       "0    Telemedicine, the use of technology to diagnos...           11091   \n",
       "1    The rise of e-health, or the use of electronic...            3919   \n",
       "2    2020 was the year the world was ravaged by the...            6863   \n",
       "3    “More gains on quality, affordability and acce...            8065   \n",
       "4    “More gains on quality, affordability and acce...            8065   \n",
       "..                                                 ...             ...   \n",
       "109  Before jumping on the topic I would like to gi...            2967   \n",
       "110  As the coronavirus spreads around the world an...           10515   \n",
       "111  From Alibaba to Ping An and Google to Ford, co...           10668   \n",
       "112  When the British ruled India, many Indians acc...            8627   \n",
       "113  The business of business is no longer to do ju...            4541   \n",
       "\n",
       "     num_words  num_sentencecs  \n",
       "0         1837              79  \n",
       "1          648              24  \n",
       "2         1199              68  \n",
       "3         1354              59  \n",
       "4         1354              59  \n",
       "..         ...             ...  \n",
       "109        527              21  \n",
       "110       1871              49  \n",
       "111       1885              70  \n",
       "112       1571              59  \n",
       "113        746              27  \n",
       "\n",
       "[114 rows x 6 columns]"
      ]
     },
     "execution_count": 32,
     "metadata": {},
     "output_type": "execute_result"
    }
   ],
   "source": [
    "df_link"
   ]
  },
  {
   "cell_type": "code",
   "execution_count": 33,
   "metadata": {},
   "outputs": [
    {
     "data": {
      "text/plain": [
       "2    2020 was the year the world was ravaged by the...\n",
       "Name: url_text, dtype: object"
      ]
     },
     "execution_count": 33,
     "metadata": {},
     "output_type": "execute_result"
    }
   ],
   "source": [
    "df_link[df_link.index==2]['url_text']"
   ]
  },
  {
   "cell_type": "code",
   "execution_count": 34,
   "metadata": {},
   "outputs": [
    {
     "data": {
      "text/html": [
       "<div>\n",
       "<style scoped>\n",
       "    .dataframe tbody tr th:only-of-type {\n",
       "        vertical-align: middle;\n",
       "    }\n",
       "\n",
       "    .dataframe tbody tr th {\n",
       "        vertical-align: top;\n",
       "    }\n",
       "\n",
       "    .dataframe thead th {\n",
       "        text-align: right;\n",
       "    }\n",
       "</style>\n",
       "<table border=\"1\" class=\"dataframe\">\n",
       "  <thead>\n",
       "    <tr style=\"text-align: right;\">\n",
       "      <th></th>\n",
       "      <th>num_characters</th>\n",
       "      <th>num_words</th>\n",
       "      <th>num_sentencecs</th>\n",
       "    </tr>\n",
       "  </thead>\n",
       "  <tbody>\n",
       "    <tr>\n",
       "      <th>count</th>\n",
       "      <td>114.000000</td>\n",
       "      <td>114.000000</td>\n",
       "      <td>114.000000</td>\n",
       "    </tr>\n",
       "    <tr>\n",
       "      <th>mean</th>\n",
       "      <td>6618.429825</td>\n",
       "      <td>1206.526316</td>\n",
       "      <td>50.315789</td>\n",
       "    </tr>\n",
       "    <tr>\n",
       "      <th>std</th>\n",
       "      <td>3513.946250</td>\n",
       "      <td>639.774493</td>\n",
       "      <td>29.051165</td>\n",
       "    </tr>\n",
       "    <tr>\n",
       "      <th>min</th>\n",
       "      <td>4.000000</td>\n",
       "      <td>1.000000</td>\n",
       "      <td>1.000000</td>\n",
       "    </tr>\n",
       "    <tr>\n",
       "      <th>25%</th>\n",
       "      <td>4188.000000</td>\n",
       "      <td>761.750000</td>\n",
       "      <td>28.250000</td>\n",
       "    </tr>\n",
       "    <tr>\n",
       "      <th>50%</th>\n",
       "      <td>6524.000000</td>\n",
       "      <td>1195.000000</td>\n",
       "      <td>51.000000</td>\n",
       "    </tr>\n",
       "    <tr>\n",
       "      <th>75%</th>\n",
       "      <td>9263.750000</td>\n",
       "      <td>1699.250000</td>\n",
       "      <td>68.750000</td>\n",
       "    </tr>\n",
       "    <tr>\n",
       "      <th>max</th>\n",
       "      <td>20731.000000</td>\n",
       "      <td>3964.000000</td>\n",
       "      <td>194.000000</td>\n",
       "    </tr>\n",
       "  </tbody>\n",
       "</table>\n",
       "</div>"
      ],
      "text/plain": [
       "       num_characters    num_words  num_sentencecs\n",
       "count      114.000000   114.000000      114.000000\n",
       "mean      6618.429825  1206.526316       50.315789\n",
       "std       3513.946250   639.774493       29.051165\n",
       "min          4.000000     1.000000        1.000000\n",
       "25%       4188.000000   761.750000       28.250000\n",
       "50%       6524.000000  1195.000000       51.000000\n",
       "75%       9263.750000  1699.250000       68.750000\n",
       "max      20731.000000  3964.000000      194.000000"
      ]
     },
     "execution_count": 34,
     "metadata": {},
     "output_type": "execute_result"
    }
   ],
   "source": [
    "df_link[['num_characters','num_words','num_sentencecs']].describe()"
   ]
  },
  {
   "cell_type": "code",
   "execution_count": 35,
   "metadata": {},
   "outputs": [
    {
     "name": "stderr",
     "output_type": "stream",
     "text": [
      "[nltk_data] Error loading stopwords: <urlopen error [WinError 10060] A\n",
      "[nltk_data]     connection attempt failed because the connected party\n",
      "[nltk_data]     did not properly respond after a period of time, or\n",
      "[nltk_data]     established connection failed because connected host\n",
      "[nltk_data]     has failed to respond>\n"
     ]
    },
    {
     "data": {
      "text/plain": [
       "False"
      ]
     },
     "execution_count": 35,
     "metadata": {},
     "output_type": "execute_result"
    }
   ],
   "source": [
    "nltk.download('stopwords')\n",
    "from nltk.corpus import stopwords\n",
    "from nltk.stem.porter import PorterStemmer\n",
    "# from nltk.stem import WordNetLemmatizer"
   ]
  },
  {
   "cell_type": "markdown",
   "metadata": {},
   "source": []
  },
  {
   "cell_type": "code",
   "execution_count": 36,
   "metadata": {},
   "outputs": [],
   "source": [
    "STOPWORDS = set(stopwords.words('english'))\n",
    "ps = PorterStemmer()\n",
    "# lm=WordNetLemmatizer()"
   ]
  },
  {
   "cell_type": "code",
   "execution_count": 37,
   "metadata": {},
   "outputs": [],
   "source": [
    "import re\n",
    "\n",
    "# For Cleaning the Stopwords\n",
    "def text_stopwords(words):\n",
    "    l=[]\n",
    "    for word in words:\n",
    "        # pattern1 = r\"^[A-Z]\\w*  \"\n",
    "        pattern2 = r\"^[A-Z]\\w*\"\n",
    "        match = re.match(pattern2, word)\n",
    "        if match:\n",
    "            l.append(match.group())\n",
    "            #print(match.group())\n",
    "        #else:\n",
    "            #print(\"No match found\")\n",
    "    return l\n",
    "\n",
    "# For Cleaning the Stopwords\n",
    "def filter(words):\n",
    "    l=[]\n",
    "    for word in words:\n",
    "        pattern2=' | '\n",
    "        match = re.split(pattern2, word)\n",
    "        if match:\n",
    "            l.append(match[0])\n",
    "            # print(match[0])\n",
    "        else:\n",
    "            print(\"No match found\")\n",
    "    return l\n"
   ]
  },
  {
   "cell_type": "code",
   "execution_count": 38,
   "metadata": {},
   "outputs": [
    {
     "name": "stdout",
     "output_type": "stream",
     "text": [
      "Length of StopWords in English : 179\n"
     ]
    }
   ],
   "source": [
    "print(\"Length of StopWords in English :\",len(STOPWORDS))"
   ]
  },
  {
   "cell_type": "code",
   "execution_count": 39,
   "metadata": {},
   "outputs": [
    {
     "name": "stdout",
     "output_type": "stream",
     "text": [
      "Length of StopWords in StopWords_Auditor : 187\n"
     ]
    }
   ],
   "source": [
    "StopWords_Auditor=open('N:\\\\BlackCoffer\\\\New_folder\\\\StopWords\\\\StopWords_Auditor.txt','r')\n",
    "StopWords_Auditor=set(StopWords_Auditor.read().splitlines())\n",
    "STOPWORDS=STOPWORDS.union(StopWords_Auditor)\n",
    "print(\"Length of StopWords in StopWords_Auditor :\",len(STOPWORDS))"
   ]
  },
  {
   "cell_type": "code",
   "execution_count": 40,
   "metadata": {},
   "outputs": [
    {
     "name": "stdout",
     "output_type": "stream",
     "text": [
      "Length of StopWords, After Adding StopWords_DatesandNumbers : 295\n"
     ]
    }
   ],
   "source": [
    "StopWords_DatesandNumbers=open('N:\\\\BlackCoffer\\\\New_folder\\\\StopWords\\\\StopWords_DatesandNumbers.txt','r')\n",
    "StopWords_DatesandNumbers=set(StopWords_DatesandNumbers.read().splitlines())\n",
    "l=filter(StopWords_DatesandNumbers)\n",
    "STOPWORDS=STOPWORDS.union(set(l))\n",
    "print(\"Length of StopWords, After Adding StopWords_DatesandNumbers :\",len(STOPWORDS))"
   ]
  },
  {
   "cell_type": "code",
   "execution_count": 41,
   "metadata": {},
   "outputs": [
    {
     "name": "stdout",
     "output_type": "stream",
     "text": [
      "Length of StopWords, After Adding StopWords_Currencies : 378\n"
     ]
    }
   ],
   "source": [
    "StopWords_Currencies=open('N:\\\\BlackCoffer\\\\New_folder\\\\StopWords\\\\StopWords_Currencies.txt','r')\n",
    "StopWords_Currencies=set(StopWords_Currencies.read().splitlines())\n",
    "#l=text_stopwords(StopWords_DatesandNumbers)\n",
    "l=filter(StopWords_Currencies)\n",
    "STOPWORDS=STOPWORDS.union(set(l))\n",
    "print(\"Length of StopWords, After Adding StopWords_Currencies :\",len(STOPWORDS))"
   ]
  },
  {
   "cell_type": "code",
   "execution_count": 42,
   "metadata": {},
   "outputs": [
    {
     "name": "stdout",
     "output_type": "stream",
     "text": [
      "Length of StopWords After Adding StopWords_Generic : 499\n"
     ]
    }
   ],
   "source": [
    "StopWords_Generic=open('N:\\\\BlackCoffer\\\\New_folder\\\\StopWords\\\\StopWords_Generic.txt','r')\n",
    "StopWords_Generic=set(StopWords_Generic.read().splitlines())\n",
    "STOPWORDS=STOPWORDS.union(StopWords_Generic)\n",
    "print(\"Length of StopWords After Adding StopWords_Generic :\",len(STOPWORDS))"
   ]
  },
  {
   "cell_type": "code",
   "execution_count": 43,
   "metadata": {},
   "outputs": [
    {
     "name": "stdout",
     "output_type": "stream",
     "text": [
      "Length of StopWords After Adding StopWords_GenericLong : 919\n"
     ]
    }
   ],
   "source": [
    "StopWords_GenericLong=open('N:\\\\BlackCoffer\\\\New_folder\\\\StopWords\\\\StopWords_GenericLong.txt','r')\n",
    "StopWords_GenericLong=set(StopWords_GenericLong.read().splitlines())\n",
    "STOPWORDS=STOPWORDS.union(StopWords_GenericLong)\n",
    "print(\"Length of StopWords After Adding StopWords_GenericLong :\",len(STOPWORDS))"
   ]
  },
  {
   "cell_type": "code",
   "execution_count": 44,
   "metadata": {},
   "outputs": [
    {
     "name": "stdout",
     "output_type": "stream",
     "text": [
      "Length of StopWords After Adding StopWords_Geographic : 1112\n"
     ]
    }
   ],
   "source": [
    "StopWords_Geographic=open('N:\\\\BlackCoffer\\\\New_folder\\\\StopWords\\\\StopWords_Geographic.txt','r')\n",
    "StopWords_Geographic=set(StopWords_Geographic.read().splitlines())\n",
    "#l=text_stopwords(StopWords_Geographic)\n",
    "l=filter(StopWords_Geographic)\n",
    "STOPWORDS=STOPWORDS.union(set(l))\n",
    "print(\"Length of StopWords After Adding StopWords_Geographic :\",len(STOPWORDS))"
   ]
  },
  {
   "cell_type": "code",
   "execution_count": 45,
   "metadata": {},
   "outputs": [
    {
     "name": "stdout",
     "output_type": "stream",
     "text": [
      "Length of StopWords After Adding StopWords_Geographic : 12929\n"
     ]
    }
   ],
   "source": [
    "StopWords_Names=open('N:\\\\BlackCoffer\\\\New_folder\\\\StopWords\\\\StopWords_Names.txt','r')\n",
    "StopWords_Names=set(StopWords_Names.read().splitlines())\n",
    "#l=text_stopwords(StopWords_Geographic)\n",
    "l=filter(StopWords_Names)\n",
    "STOPWORDS=STOPWORDS.union(set(l))\n",
    "print(\"Length of StopWords After Adding StopWords_Geographic :\",len(STOPWORDS))"
   ]
  },
  {
   "cell_type": "code",
   "execution_count": 46,
   "metadata": {},
   "outputs": [],
   "source": [
    "def transform_text(text):\n",
    "    # text = text.lower()\n",
    "    text = nltk.word_tokenize(text)\n",
    "    y = []\n",
    "    for i in text:\n",
    "        i.replace('?','')\n",
    "        i.replace('!','')\n",
    "        i.replace(',','')\n",
    "        i.replace('.','')\n",
    "        i.replace(\"'\",\"\")\n",
    "        i.replace(\"[\",\"\")\n",
    "        i.replace(\"]\",\"\")\n",
    "\n",
    "    for i in text:\n",
    "       if i.isalnum():\n",
    "            y.append(i)\n",
    "    text = y[:]\n",
    "    y.clear()\n",
    "    for i in text:\n",
    "        if i not in STOPWORDS:\n",
    "            y.append(i)\n",
    "    text = y[:]\n",
    "    y.clear()\n",
    "\n",
    "    for i in text:\n",
    "        y.append(ps.stem(i))\n",
    "\n",
    "\n",
    "    return \" \".join(y)"
   ]
  },
  {
   "cell_type": "code",
   "execution_count": 47,
   "metadata": {},
   "outputs": [
    {
     "data": {
      "text/plain": [
       "11091"
      ]
     },
     "execution_count": 47,
     "metadata": {},
     "output_type": "execute_result"
    }
   ],
   "source": [
    "len(df_link['url_text'][0])"
   ]
  },
  {
   "cell_type": "code",
   "execution_count": 48,
   "metadata": {},
   "outputs": [
    {
     "data": {
      "text/plain": [
       "str"
      ]
     },
     "execution_count": 48,
     "metadata": {},
     "output_type": "execute_result"
    }
   ],
   "source": [
    "type(df_link['url_text'][0])"
   ]
  },
  {
   "cell_type": "code",
   "execution_count": 49,
   "metadata": {},
   "outputs": [
    {
     "data": {
      "text/plain": [
       "str"
      ]
     },
     "execution_count": 49,
     "metadata": {},
     "output_type": "execute_result"
    }
   ],
   "source": [
    "type(transform_text(df_link['url_text'][0]))"
   ]
  },
  {
   "cell_type": "code",
   "execution_count": 50,
   "metadata": {},
   "outputs": [],
   "source": [
    "transformed_text=df_link['url_text'].apply(lambda x:transform_text(str(x)))"
   ]
  },
  {
   "cell_type": "code",
   "execution_count": 51,
   "metadata": {},
   "outputs": [
    {
     "data": {
      "text/plain": [
       "0      Telemedicine, the use of technology to diagnos...\n",
       "1      The rise of e-health, or the use of electronic...\n",
       "2      2020 was the year the world was ravaged by the...\n",
       "3      “More gains on quality, affordability and acce...\n",
       "4      “More gains on quality, affordability and acce...\n",
       "                             ...                        \n",
       "109    Before jumping on the topic I would like to gi...\n",
       "110    As the coronavirus spreads around the world an...\n",
       "111    From Alibaba to Ping An and Google to Ford, co...\n",
       "112    When the British ruled India, many Indians acc...\n",
       "113    The business of business is no longer to do ju...\n",
       "Name: url_text, Length: 114, dtype: object"
      ]
     },
     "execution_count": 51,
     "metadata": {},
     "output_type": "execute_result"
    }
   ],
   "source": [
    "df_link['url_text']"
   ]
  },
  {
   "cell_type": "code",
   "execution_count": 52,
   "metadata": {},
   "outputs": [
    {
     "data": {
      "text/plain": [
       "0      telemedicin technolog diagnos treat patient re...\n",
       "1      the rise electron mean facilit health care maj...\n",
       "2      2020 year world ravag sarscov2 viru thi notori...\n",
       "3      more gain qualiti afford access what mean as w...\n",
       "4      more gain qualiti afford access what mean as w...\n",
       "                             ...                        \n",
       "109    befor jump topic give overview coronaviru spre...\n",
       "110    as coronaviru spread world countri implement c...\n",
       "111    from alibaba ping an googl ford compani globe ...\n",
       "112    when british rule india indian accept work pol...\n",
       "113    the busi busi longer busi increas bottom line ...\n",
       "Name: url_text, Length: 114, dtype: object"
      ]
     },
     "execution_count": 52,
     "metadata": {},
     "output_type": "execute_result"
    }
   ],
   "source": [
    "transformed_text"
   ]
  },
  {
   "cell_type": "code",
   "execution_count": 53,
   "metadata": {},
   "outputs": [
    {
     "data": {
      "text/plain": [
       "pandas.core.series.Series"
      ]
     },
     "execution_count": 53,
     "metadata": {},
     "output_type": "execute_result"
    }
   ],
   "source": [
    "type(transformed_text)"
   ]
  },
  {
   "cell_type": "code",
   "execution_count": 54,
   "metadata": {},
   "outputs": [],
   "source": [
    "transformed_text=transformed_text.tolist()\n"
   ]
  },
  {
   "cell_type": "code",
   "execution_count": 55,
   "metadata": {},
   "outputs": [
    {
     "data": {
      "text/plain": [
       "list"
      ]
     },
     "execution_count": 55,
     "metadata": {},
     "output_type": "execute_result"
    }
   ],
   "source": [
    "type(transformed_text)"
   ]
  },
  {
   "cell_type": "code",
   "execution_count": 56,
   "metadata": {},
   "outputs": [],
   "source": [
    "df_out=pd.read_excel('Output_Data_Structure.xlsx')"
   ]
  },
  {
   "cell_type": "code",
   "execution_count": 57,
   "metadata": {},
   "outputs": [
    {
     "data": {
      "text/html": [
       "<div>\n",
       "<style scoped>\n",
       "    .dataframe tbody tr th:only-of-type {\n",
       "        vertical-align: middle;\n",
       "    }\n",
       "\n",
       "    .dataframe tbody tr th {\n",
       "        vertical-align: top;\n",
       "    }\n",
       "\n",
       "    .dataframe thead th {\n",
       "        text-align: right;\n",
       "    }\n",
       "</style>\n",
       "<table border=\"1\" class=\"dataframe\">\n",
       "  <thead>\n",
       "    <tr style=\"text-align: right;\">\n",
       "      <th></th>\n",
       "      <th>URL_ID</th>\n",
       "      <th>URL</th>\n",
       "      <th>POSITIVE SCORE</th>\n",
       "      <th>NEGATIVE SCORE</th>\n",
       "      <th>POLARITY SCORE</th>\n",
       "      <th>SUBJECTIVITY SCORE</th>\n",
       "      <th>AVG SENTENCE LENGTH</th>\n",
       "      <th>PERCENTAGE OF COMPLEX WORDS</th>\n",
       "      <th>FOG INDEX</th>\n",
       "      <th>AVG NUMBER OF WORDS PER SENTENCE</th>\n",
       "      <th>COMPLEX WORD COUNT</th>\n",
       "      <th>WORD COUNT</th>\n",
       "      <th>SYLLABLE PER WORD</th>\n",
       "      <th>PERSONAL PRONOUNS</th>\n",
       "      <th>AVG WORD LENGTH</th>\n",
       "    </tr>\n",
       "  </thead>\n",
       "  <tbody>\n",
       "    <tr>\n",
       "      <th>0</th>\n",
       "      <td>123.0</td>\n",
       "      <td>https://insights.blackcoffer.com/rise-of-telem...</td>\n",
       "      <td>NaN</td>\n",
       "      <td>NaN</td>\n",
       "      <td>NaN</td>\n",
       "      <td>NaN</td>\n",
       "      <td>NaN</td>\n",
       "      <td>NaN</td>\n",
       "      <td>NaN</td>\n",
       "      <td>NaN</td>\n",
       "      <td>NaN</td>\n",
       "      <td>NaN</td>\n",
       "      <td>NaN</td>\n",
       "      <td>NaN</td>\n",
       "      <td>NaN</td>\n",
       "    </tr>\n",
       "    <tr>\n",
       "      <th>1</th>\n",
       "      <td>321.0</td>\n",
       "      <td>https://insights.blackcoffer.com/rise-of-e-hea...</td>\n",
       "      <td>NaN</td>\n",
       "      <td>NaN</td>\n",
       "      <td>NaN</td>\n",
       "      <td>NaN</td>\n",
       "      <td>NaN</td>\n",
       "      <td>NaN</td>\n",
       "      <td>NaN</td>\n",
       "      <td>NaN</td>\n",
       "      <td>NaN</td>\n",
       "      <td>NaN</td>\n",
       "      <td>NaN</td>\n",
       "      <td>NaN</td>\n",
       "      <td>NaN</td>\n",
       "    </tr>\n",
       "    <tr>\n",
       "      <th>2</th>\n",
       "      <td>2345.0</td>\n",
       "      <td>https://insights.blackcoffer.com/rise-of-e-hea...</td>\n",
       "      <td>NaN</td>\n",
       "      <td>NaN</td>\n",
       "      <td>NaN</td>\n",
       "      <td>NaN</td>\n",
       "      <td>NaN</td>\n",
       "      <td>NaN</td>\n",
       "      <td>NaN</td>\n",
       "      <td>NaN</td>\n",
       "      <td>NaN</td>\n",
       "      <td>NaN</td>\n",
       "      <td>NaN</td>\n",
       "      <td>NaN</td>\n",
       "      <td>NaN</td>\n",
       "    </tr>\n",
       "    <tr>\n",
       "      <th>3</th>\n",
       "      <td>4321.0</td>\n",
       "      <td>https://insights.blackcoffer.com/rise-of-telem...</td>\n",
       "      <td>NaN</td>\n",
       "      <td>NaN</td>\n",
       "      <td>NaN</td>\n",
       "      <td>NaN</td>\n",
       "      <td>NaN</td>\n",
       "      <td>NaN</td>\n",
       "      <td>NaN</td>\n",
       "      <td>NaN</td>\n",
       "      <td>NaN</td>\n",
       "      <td>NaN</td>\n",
       "      <td>NaN</td>\n",
       "      <td>NaN</td>\n",
       "      <td>NaN</td>\n",
       "    </tr>\n",
       "    <tr>\n",
       "      <th>4</th>\n",
       "      <td>432.0</td>\n",
       "      <td>https://insights.blackcoffer.com/rise-of-telem...</td>\n",
       "      <td>NaN</td>\n",
       "      <td>NaN</td>\n",
       "      <td>NaN</td>\n",
       "      <td>NaN</td>\n",
       "      <td>NaN</td>\n",
       "      <td>NaN</td>\n",
       "      <td>NaN</td>\n",
       "      <td>NaN</td>\n",
       "      <td>NaN</td>\n",
       "      <td>NaN</td>\n",
       "      <td>NaN</td>\n",
       "      <td>NaN</td>\n",
       "      <td>NaN</td>\n",
       "    </tr>\n",
       "    <tr>\n",
       "      <th>...</th>\n",
       "      <td>...</td>\n",
       "      <td>...</td>\n",
       "      <td>...</td>\n",
       "      <td>...</td>\n",
       "      <td>...</td>\n",
       "      <td>...</td>\n",
       "      <td>...</td>\n",
       "      <td>...</td>\n",
       "      <td>...</td>\n",
       "      <td>...</td>\n",
       "      <td>...</td>\n",
       "      <td>...</td>\n",
       "      <td>...</td>\n",
       "      <td>...</td>\n",
       "      <td>...</td>\n",
       "    </tr>\n",
       "    <tr>\n",
       "      <th>109</th>\n",
       "      <td>50921.0</td>\n",
       "      <td>https://insights.blackcoffer.com/coronavirus-i...</td>\n",
       "      <td>NaN</td>\n",
       "      <td>NaN</td>\n",
       "      <td>NaN</td>\n",
       "      <td>NaN</td>\n",
       "      <td>NaN</td>\n",
       "      <td>NaN</td>\n",
       "      <td>NaN</td>\n",
       "      <td>NaN</td>\n",
       "      <td>NaN</td>\n",
       "      <td>NaN</td>\n",
       "      <td>NaN</td>\n",
       "      <td>NaN</td>\n",
       "      <td>NaN</td>\n",
       "    </tr>\n",
       "    <tr>\n",
       "      <th>110</th>\n",
       "      <td>51382.8</td>\n",
       "      <td>https://insights.blackcoffer.com/coronavirus-i...</td>\n",
       "      <td>NaN</td>\n",
       "      <td>NaN</td>\n",
       "      <td>NaN</td>\n",
       "      <td>NaN</td>\n",
       "      <td>NaN</td>\n",
       "      <td>NaN</td>\n",
       "      <td>NaN</td>\n",
       "      <td>NaN</td>\n",
       "      <td>NaN</td>\n",
       "      <td>NaN</td>\n",
       "      <td>NaN</td>\n",
       "      <td>NaN</td>\n",
       "      <td>NaN</td>\n",
       "    </tr>\n",
       "    <tr>\n",
       "      <th>111</th>\n",
       "      <td>51844.6</td>\n",
       "      <td>https://insights.blackcoffer.com/what-are-the-...</td>\n",
       "      <td>NaN</td>\n",
       "      <td>NaN</td>\n",
       "      <td>NaN</td>\n",
       "      <td>NaN</td>\n",
       "      <td>NaN</td>\n",
       "      <td>NaN</td>\n",
       "      <td>NaN</td>\n",
       "      <td>NaN</td>\n",
       "      <td>NaN</td>\n",
       "      <td>NaN</td>\n",
       "      <td>NaN</td>\n",
       "      <td>NaN</td>\n",
       "      <td>NaN</td>\n",
       "    </tr>\n",
       "    <tr>\n",
       "      <th>112</th>\n",
       "      <td>52306.4</td>\n",
       "      <td>https://insights.blackcoffer.com/marketing-dri...</td>\n",
       "      <td>NaN</td>\n",
       "      <td>NaN</td>\n",
       "      <td>NaN</td>\n",
       "      <td>NaN</td>\n",
       "      <td>NaN</td>\n",
       "      <td>NaN</td>\n",
       "      <td>NaN</td>\n",
       "      <td>NaN</td>\n",
       "      <td>NaN</td>\n",
       "      <td>NaN</td>\n",
       "      <td>NaN</td>\n",
       "      <td>NaN</td>\n",
       "      <td>NaN</td>\n",
       "    </tr>\n",
       "    <tr>\n",
       "      <th>113</th>\n",
       "      <td>52768.2</td>\n",
       "      <td>https://insights.blackcoffer.com/continued-dem...</td>\n",
       "      <td>NaN</td>\n",
       "      <td>NaN</td>\n",
       "      <td>NaN</td>\n",
       "      <td>NaN</td>\n",
       "      <td>NaN</td>\n",
       "      <td>NaN</td>\n",
       "      <td>NaN</td>\n",
       "      <td>NaN</td>\n",
       "      <td>NaN</td>\n",
       "      <td>NaN</td>\n",
       "      <td>NaN</td>\n",
       "      <td>NaN</td>\n",
       "      <td>NaN</td>\n",
       "    </tr>\n",
       "  </tbody>\n",
       "</table>\n",
       "<p>114 rows × 15 columns</p>\n",
       "</div>"
      ],
      "text/plain": [
       "      URL_ID                                                URL  \\\n",
       "0      123.0  https://insights.blackcoffer.com/rise-of-telem...   \n",
       "1      321.0  https://insights.blackcoffer.com/rise-of-e-hea...   \n",
       "2     2345.0  https://insights.blackcoffer.com/rise-of-e-hea...   \n",
       "3     4321.0  https://insights.blackcoffer.com/rise-of-telem...   \n",
       "4      432.0  https://insights.blackcoffer.com/rise-of-telem...   \n",
       "..       ...                                                ...   \n",
       "109  50921.0  https://insights.blackcoffer.com/coronavirus-i...   \n",
       "110  51382.8  https://insights.blackcoffer.com/coronavirus-i...   \n",
       "111  51844.6  https://insights.blackcoffer.com/what-are-the-...   \n",
       "112  52306.4  https://insights.blackcoffer.com/marketing-dri...   \n",
       "113  52768.2  https://insights.blackcoffer.com/continued-dem...   \n",
       "\n",
       "     POSITIVE SCORE  NEGATIVE SCORE  POLARITY SCORE  SUBJECTIVITY SCORE  \\\n",
       "0               NaN             NaN             NaN                 NaN   \n",
       "1               NaN             NaN             NaN                 NaN   \n",
       "2               NaN             NaN             NaN                 NaN   \n",
       "3               NaN             NaN             NaN                 NaN   \n",
       "4               NaN             NaN             NaN                 NaN   \n",
       "..              ...             ...             ...                 ...   \n",
       "109             NaN             NaN             NaN                 NaN   \n",
       "110             NaN             NaN             NaN                 NaN   \n",
       "111             NaN             NaN             NaN                 NaN   \n",
       "112             NaN             NaN             NaN                 NaN   \n",
       "113             NaN             NaN             NaN                 NaN   \n",
       "\n",
       "     AVG SENTENCE LENGTH  PERCENTAGE OF COMPLEX WORDS  FOG INDEX  \\\n",
       "0                    NaN                          NaN        NaN   \n",
       "1                    NaN                          NaN        NaN   \n",
       "2                    NaN                          NaN        NaN   \n",
       "3                    NaN                          NaN        NaN   \n",
       "4                    NaN                          NaN        NaN   \n",
       "..                   ...                          ...        ...   \n",
       "109                  NaN                          NaN        NaN   \n",
       "110                  NaN                          NaN        NaN   \n",
       "111                  NaN                          NaN        NaN   \n",
       "112                  NaN                          NaN        NaN   \n",
       "113                  NaN                          NaN        NaN   \n",
       "\n",
       "     AVG NUMBER OF WORDS PER SENTENCE  COMPLEX WORD COUNT  WORD COUNT  \\\n",
       "0                                 NaN                 NaN         NaN   \n",
       "1                                 NaN                 NaN         NaN   \n",
       "2                                 NaN                 NaN         NaN   \n",
       "3                                 NaN                 NaN         NaN   \n",
       "4                                 NaN                 NaN         NaN   \n",
       "..                                ...                 ...         ...   \n",
       "109                               NaN                 NaN         NaN   \n",
       "110                               NaN                 NaN         NaN   \n",
       "111                               NaN                 NaN         NaN   \n",
       "112                               NaN                 NaN         NaN   \n",
       "113                               NaN                 NaN         NaN   \n",
       "\n",
       "     SYLLABLE PER WORD  PERSONAL PRONOUNS  AVG WORD LENGTH  \n",
       "0                  NaN                NaN              NaN  \n",
       "1                  NaN                NaN              NaN  \n",
       "2                  NaN                NaN              NaN  \n",
       "3                  NaN                NaN              NaN  \n",
       "4                  NaN                NaN              NaN  \n",
       "..                 ...                ...              ...  \n",
       "109                NaN                NaN              NaN  \n",
       "110                NaN                NaN              NaN  \n",
       "111                NaN                NaN              NaN  \n",
       "112                NaN                NaN              NaN  \n",
       "113                NaN                NaN              NaN  \n",
       "\n",
       "[114 rows x 15 columns]"
      ]
     },
     "execution_count": 57,
     "metadata": {},
     "output_type": "execute_result"
    }
   ],
   "source": [
    "df_out"
   ]
  },
  {
   "cell_type": "code",
   "execution_count": 58,
   "metadata": {},
   "outputs": [
    {
     "data": {
      "text/plain": [
       "Index(['URL_ID', 'URL', 'POSITIVE SCORE', 'NEGATIVE SCORE', 'POLARITY SCORE',\n",
       "       'SUBJECTIVITY SCORE', 'AVG SENTENCE LENGTH',\n",
       "       'PERCENTAGE OF COMPLEX WORDS', 'FOG INDEX',\n",
       "       'AVG NUMBER OF WORDS PER SENTENCE', 'COMPLEX WORD COUNT', 'WORD COUNT',\n",
       "       'SYLLABLE PER WORD', 'PERSONAL PRONOUNS', 'AVG WORD LENGTH'],\n",
       "      dtype='object')"
      ]
     },
     "execution_count": 58,
     "metadata": {},
     "output_type": "execute_result"
    }
   ],
   "source": [
    "df_out.columns"
   ]
  },
  {
   "cell_type": "code",
   "execution_count": 59,
   "metadata": {},
   "outputs": [],
   "source": [
    "import os\n",
    "\n",
    "negative_file=open(r\"N:\\BlackCoffer\\New_folder\\MasterDictionary/negative-words.txt\",'r')\n",
    "negative_corpus=set(negative_file.read().splitlines())"
   ]
  },
  {
   "cell_type": "code",
   "execution_count": 60,
   "metadata": {},
   "outputs": [],
   "source": [
    "positive_file=open(r\"N:\\BlackCoffer\\New_folder\\MasterDictionary/positive-words.txt\",'r')\n",
    "positive_corpus=set(positive_file.read().splitlines())"
   ]
  },
  {
   "cell_type": "code",
   "execution_count": 61,
   "metadata": {},
   "outputs": [
    {
     "name": "stdout",
     "output_type": "stream",
     "text": [
      "patient patient gain popular patient led patient patient comfort patient afford patient patient patient lead support boost better patient patient patient patient patient benefit patient work patient patient comfort patient patient patient patient work benefit benefit patient faster patient patient patient faster good patient comfort patient patient patient patient patient patient patient patient comfort easier patient patient patient free patient patient patient patient patient patient patient work work work work patient "
     ]
    },
    {
     "data": {
      "text/plain": [
       "True"
      ]
     },
     "execution_count": 61,
     "metadata": {},
     "output_type": "execute_result"
    }
   ],
   "source": [
    "l=0\n",
    "for word in list(nltk.word_tokenize(transformed_text[0])):\n",
    "        if word in positive_corpus:\n",
    "            print(word,end=\" \")\n",
    "\n",
    "'patient' in positive_corpus"
   ]
  },
  {
   "cell_type": "code",
   "execution_count": 62,
   "metadata": {},
   "outputs": [
    {
     "data": {
      "text/plain": [
       "True"
      ]
     },
     "execution_count": 62,
     "metadata": {},
     "output_type": "execute_result"
    }
   ],
   "source": [
    "'g' in 'game'"
   ]
  },
  {
   "cell_type": "code",
   "execution_count": 63,
   "metadata": {},
   "outputs": [
    {
     "name": "stdout",
     "output_type": "stream",
     "text": [
      "0 16 10\n",
      "1 5 5\n",
      "2 11 14\n",
      "3 17 17\n",
      "4 17 17\n",
      "5 9 6\n",
      "6 12 7\n",
      "7 20 3\n",
      "8 4 0\n",
      "9 11 15\n",
      "10 3 5\n",
      "11 15 13\n",
      "12 6 1\n",
      "13 10 7\n",
      "14 12 10\n",
      "15 13 13\n",
      "16 14 16\n",
      "17 19 17\n",
      "18 22 18\n",
      "19 19 18\n",
      "20 21 13\n",
      "21 17 13\n",
      "22 18 13\n",
      "23 10 4\n",
      "24 0 0\n",
      "25 12 5\n",
      "26 20 19\n",
      "27 13 25\n",
      "28 11 6\n",
      "29 15 17\n",
      "30 18 16\n",
      "31 20 10\n",
      "32 9 0\n",
      "33 19 13\n",
      "34 12 0\n",
      "35 12 3\n",
      "36 2 2\n",
      "37 0 0\n",
      "38 12 22\n",
      "39 4 4\n",
      "40 8 9\n",
      "41 15 4\n",
      "42 4 1\n",
      "43 9 4\n",
      "44 6 3\n",
      "45 7 7\n",
      "46 1 0\n",
      "47 9 16\n",
      "48 5 2\n",
      "49 10 7\n",
      "50 0 6\n",
      "51 8 14\n",
      "52 10 19\n",
      "53 14 11\n",
      "54 17 18\n",
      "55 12 5\n",
      "56 17 4\n",
      "57 13 3\n",
      "58 10 6\n",
      "59 11 21\n",
      "60 9 7\n",
      "61 11 14\n",
      "62 8 8\n",
      "63 11 27\n",
      "64 7 6\n",
      "65 4 6\n",
      "66 5 10\n",
      "67 14 15\n",
      "68 14 8\n",
      "69 18 27\n",
      "70 8 28\n",
      "71 2 1\n",
      "72 14 5\n",
      "73 11 20\n",
      "74 20 12\n",
      "75 10 20\n",
      "76 8 13\n",
      "77 8 16\n",
      "78 15 13\n",
      "79 10 12\n",
      "80 12 22\n",
      "81 3 2\n",
      "82 16 27\n",
      "83 5 14\n",
      "84 8 23\n",
      "85 10 18\n",
      "86 1 0\n",
      "87 3 1\n",
      "88 10 27\n",
      "89 13 13\n",
      "90 4 17\n",
      "91 11 21\n",
      "92 13 31\n",
      "93 8 12\n",
      "94 15 19\n",
      "95 7 15\n",
      "96 8 9\n",
      "97 17 28\n",
      "98 9 23\n",
      "99 4 5\n",
      "100 20 29\n",
      "101 19 33\n",
      "102 13 30\n",
      "103 20 34\n",
      "104 12 18\n",
      "105 25 14\n",
      "106 11 16\n",
      "107 13 28\n",
      "108 6 3\n",
      "109 5 9\n",
      "110 11 26\n",
      "111 21 15\n",
      "112 10 11\n",
      "113 5 11\n"
     ]
    }
   ],
   "source": [
    "index=0\n",
    "positive_score=0\n",
    "negative_score=0\n",
    "p=set()\n",
    "n=set()\n",
    "\n",
    "for words in transformed_text:\n",
    "    positive_score=0\n",
    "    negative_score=0\n",
    "    for word in nltk.word_tokenize(words):\n",
    "        # print(word)\n",
    "        if word in positive_corpus:\n",
    "            # positive_score+=1\n",
    "            p.add(word)\n",
    "        elif word in negative_corpus:\n",
    "            # negative_score+=1\n",
    "            n.add(word)\n",
    "    print(index,len(p),len(n))\n",
    "    index+=1\n",
    "    p.clear()\n",
    "    n.clear()\n",
    "    "
   ]
  },
  {
   "cell_type": "code",
   "execution_count": 64,
   "metadata": {},
   "outputs": [
    {
     "name": "stdout",
     "output_type": "stream",
     "text": [
      "19\n",
      "['right', 'like', 'liked', 'sensible', 'appreciate', 'useful', 'enough', 'willing', 'appropriate', 'reasonably', 'available', 'clearly', 'better', 'welcome', 'won', 'wonder', 'well', 'thank', 'best']\n",
      "4\n",
      "['sorry', 'unfortunately', 'awfully', 'unlikely']\n"
     ]
    }
   ],
   "source": [
    "score=0\n",
    "l=[]\n",
    "for word in positive_corpus:\n",
    "    if word in STOPWORDS:\n",
    "        score+=1\n",
    "        l.append(word)\n",
    "\n",
    "print(score)\n",
    "print(l)\n",
    "\n",
    "l.clear()\n",
    "score=0\n",
    "for word in negative_corpus:\n",
    "    if word in STOPWORDS:\n",
    "        score+=1\n",
    "        l.append(word)\n",
    "\n",
    "print(score)\n",
    "print(l)     \n"
   ]
  },
  {
   "cell_type": "code",
   "execution_count": 65,
   "metadata": {},
   "outputs": [],
   "source": [
    "df_link['transformed_text']=transformed_text"
   ]
  },
  {
   "cell_type": "code",
   "execution_count": 66,
   "metadata": {},
   "outputs": [
    {
     "data": {
      "text/html": [
       "<div>\n",
       "<style scoped>\n",
       "    .dataframe tbody tr th:only-of-type {\n",
       "        vertical-align: middle;\n",
       "    }\n",
       "\n",
       "    .dataframe tbody tr th {\n",
       "        vertical-align: top;\n",
       "    }\n",
       "\n",
       "    .dataframe thead th {\n",
       "        text-align: right;\n",
       "    }\n",
       "</style>\n",
       "<table border=\"1\" class=\"dataframe\">\n",
       "  <thead>\n",
       "    <tr style=\"text-align: right;\">\n",
       "      <th></th>\n",
       "      <th>URL_ID</th>\n",
       "      <th>URL</th>\n",
       "      <th>url_text</th>\n",
       "      <th>num_characters</th>\n",
       "      <th>num_words</th>\n",
       "      <th>num_sentencecs</th>\n",
       "      <th>transformed_text</th>\n",
       "    </tr>\n",
       "  </thead>\n",
       "  <tbody>\n",
       "    <tr>\n",
       "      <th>0</th>\n",
       "      <td>123.0</td>\n",
       "      <td>https://insights.blackcoffer.com/rise-of-telem...</td>\n",
       "      <td>Telemedicine, the use of technology to diagnos...</td>\n",
       "      <td>11091</td>\n",
       "      <td>1837</td>\n",
       "      <td>79</td>\n",
       "      <td>telemedicin technolog diagnos treat patient re...</td>\n",
       "    </tr>\n",
       "    <tr>\n",
       "      <th>1</th>\n",
       "      <td>321.0</td>\n",
       "      <td>https://insights.blackcoffer.com/rise-of-e-hea...</td>\n",
       "      <td>The rise of e-health, or the use of electronic...</td>\n",
       "      <td>3919</td>\n",
       "      <td>648</td>\n",
       "      <td>24</td>\n",
       "      <td>the rise electron mean facilit health care maj...</td>\n",
       "    </tr>\n",
       "    <tr>\n",
       "      <th>2</th>\n",
       "      <td>2345.0</td>\n",
       "      <td>https://insights.blackcoffer.com/rise-of-e-hea...</td>\n",
       "      <td>2020 was the year the world was ravaged by the...</td>\n",
       "      <td>6863</td>\n",
       "      <td>1199</td>\n",
       "      <td>68</td>\n",
       "      <td>2020 year world ravag sarscov2 viru thi notori...</td>\n",
       "    </tr>\n",
       "    <tr>\n",
       "      <th>3</th>\n",
       "      <td>4321.0</td>\n",
       "      <td>https://insights.blackcoffer.com/rise-of-telem...</td>\n",
       "      <td>“More gains on quality, affordability and acce...</td>\n",
       "      <td>8065</td>\n",
       "      <td>1354</td>\n",
       "      <td>59</td>\n",
       "      <td>more gain qualiti afford access what mean as w...</td>\n",
       "    </tr>\n",
       "    <tr>\n",
       "      <th>4</th>\n",
       "      <td>432.0</td>\n",
       "      <td>https://insights.blackcoffer.com/rise-of-telem...</td>\n",
       "      <td>“More gains on quality, affordability and acce...</td>\n",
       "      <td>8065</td>\n",
       "      <td>1354</td>\n",
       "      <td>59</td>\n",
       "      <td>more gain qualiti afford access what mean as w...</td>\n",
       "    </tr>\n",
       "    <tr>\n",
       "      <th>...</th>\n",
       "      <td>...</td>\n",
       "      <td>...</td>\n",
       "      <td>...</td>\n",
       "      <td>...</td>\n",
       "      <td>...</td>\n",
       "      <td>...</td>\n",
       "      <td>...</td>\n",
       "    </tr>\n",
       "    <tr>\n",
       "      <th>109</th>\n",
       "      <td>50921.0</td>\n",
       "      <td>https://insights.blackcoffer.com/coronavirus-i...</td>\n",
       "      <td>Before jumping on the topic I would like to gi...</td>\n",
       "      <td>2967</td>\n",
       "      <td>527</td>\n",
       "      <td>21</td>\n",
       "      <td>befor jump topic give overview coronaviru spre...</td>\n",
       "    </tr>\n",
       "    <tr>\n",
       "      <th>110</th>\n",
       "      <td>51382.8</td>\n",
       "      <td>https://insights.blackcoffer.com/coronavirus-i...</td>\n",
       "      <td>As the coronavirus spreads around the world an...</td>\n",
       "      <td>10515</td>\n",
       "      <td>1871</td>\n",
       "      <td>49</td>\n",
       "      <td>as coronaviru spread world countri implement c...</td>\n",
       "    </tr>\n",
       "    <tr>\n",
       "      <th>111</th>\n",
       "      <td>51844.6</td>\n",
       "      <td>https://insights.blackcoffer.com/what-are-the-...</td>\n",
       "      <td>From Alibaba to Ping An and Google to Ford, co...</td>\n",
       "      <td>10668</td>\n",
       "      <td>1885</td>\n",
       "      <td>70</td>\n",
       "      <td>from alibaba ping an googl ford compani globe ...</td>\n",
       "    </tr>\n",
       "    <tr>\n",
       "      <th>112</th>\n",
       "      <td>52306.4</td>\n",
       "      <td>https://insights.blackcoffer.com/marketing-dri...</td>\n",
       "      <td>When the British ruled India, many Indians acc...</td>\n",
       "      <td>8627</td>\n",
       "      <td>1571</td>\n",
       "      <td>59</td>\n",
       "      <td>when british rule india indian accept work pol...</td>\n",
       "    </tr>\n",
       "    <tr>\n",
       "      <th>113</th>\n",
       "      <td>52768.2</td>\n",
       "      <td>https://insights.blackcoffer.com/continued-dem...</td>\n",
       "      <td>The business of business is no longer to do ju...</td>\n",
       "      <td>4541</td>\n",
       "      <td>746</td>\n",
       "      <td>27</td>\n",
       "      <td>the busi busi longer busi increas bottom line ...</td>\n",
       "    </tr>\n",
       "  </tbody>\n",
       "</table>\n",
       "<p>114 rows × 7 columns</p>\n",
       "</div>"
      ],
      "text/plain": [
       "      URL_ID                                                URL  \\\n",
       "0      123.0  https://insights.blackcoffer.com/rise-of-telem...   \n",
       "1      321.0  https://insights.blackcoffer.com/rise-of-e-hea...   \n",
       "2     2345.0  https://insights.blackcoffer.com/rise-of-e-hea...   \n",
       "3     4321.0  https://insights.blackcoffer.com/rise-of-telem...   \n",
       "4      432.0  https://insights.blackcoffer.com/rise-of-telem...   \n",
       "..       ...                                                ...   \n",
       "109  50921.0  https://insights.blackcoffer.com/coronavirus-i...   \n",
       "110  51382.8  https://insights.blackcoffer.com/coronavirus-i...   \n",
       "111  51844.6  https://insights.blackcoffer.com/what-are-the-...   \n",
       "112  52306.4  https://insights.blackcoffer.com/marketing-dri...   \n",
       "113  52768.2  https://insights.blackcoffer.com/continued-dem...   \n",
       "\n",
       "                                              url_text  num_characters  \\\n",
       "0    Telemedicine, the use of technology to diagnos...           11091   \n",
       "1    The rise of e-health, or the use of electronic...            3919   \n",
       "2    2020 was the year the world was ravaged by the...            6863   \n",
       "3    “More gains on quality, affordability and acce...            8065   \n",
       "4    “More gains on quality, affordability and acce...            8065   \n",
       "..                                                 ...             ...   \n",
       "109  Before jumping on the topic I would like to gi...            2967   \n",
       "110  As the coronavirus spreads around the world an...           10515   \n",
       "111  From Alibaba to Ping An and Google to Ford, co...           10668   \n",
       "112  When the British ruled India, many Indians acc...            8627   \n",
       "113  The business of business is no longer to do ju...            4541   \n",
       "\n",
       "     num_words  num_sentencecs  \\\n",
       "0         1837              79   \n",
       "1          648              24   \n",
       "2         1199              68   \n",
       "3         1354              59   \n",
       "4         1354              59   \n",
       "..         ...             ...   \n",
       "109        527              21   \n",
       "110       1871              49   \n",
       "111       1885              70   \n",
       "112       1571              59   \n",
       "113        746              27   \n",
       "\n",
       "                                      transformed_text  \n",
       "0    telemedicin technolog diagnos treat patient re...  \n",
       "1    the rise electron mean facilit health care maj...  \n",
       "2    2020 year world ravag sarscov2 viru thi notori...  \n",
       "3    more gain qualiti afford access what mean as w...  \n",
       "4    more gain qualiti afford access what mean as w...  \n",
       "..                                                 ...  \n",
       "109  befor jump topic give overview coronaviru spre...  \n",
       "110  as coronaviru spread world countri implement c...  \n",
       "111  from alibaba ping an googl ford compani globe ...  \n",
       "112  when british rule india indian accept work pol...  \n",
       "113  the busi busi longer busi increas bottom line ...  \n",
       "\n",
       "[114 rows x 7 columns]"
      ]
     },
     "execution_count": 66,
     "metadata": {},
     "output_type": "execute_result"
    }
   ],
   "source": [
    "df_link"
   ]
  },
  {
   "cell_type": "code",
   "execution_count": 67,
   "metadata": {},
   "outputs": [],
   "source": [
    "p=set()\n",
    "def positivity(words):\n",
    "    for word in nltk.word_tokenize(words):\n",
    "        if word in positive_corpus:\n",
    "            p.add(word)\n",
    "    score=len(p)\n",
    "    p.clear()\n",
    "    return score\n",
    "\n",
    "\n",
    "def negativity(words):\n",
    "    for word in nltk.word_tokenize(words):\n",
    "        if word in negative_corpus:\n",
    "            p.add(word)\n",
    "    score=len(p)\n",
    "    p.clear()\n",
    "    return score\n",
    "    "
   ]
  },
  {
   "cell_type": "code",
   "execution_count": 68,
   "metadata": {},
   "outputs": [
    {
     "data": {
      "text/plain": [
       "0      16\n",
       "1       5\n",
       "2      11\n",
       "3      17\n",
       "4      17\n",
       "       ..\n",
       "109     5\n",
       "110    11\n",
       "111    21\n",
       "112    10\n",
       "113     5\n",
       "Name: Positive_score, Length: 114, dtype: int64"
      ]
     },
     "execution_count": 68,
     "metadata": {},
     "output_type": "execute_result"
    }
   ],
   "source": [
    "df_link['Positive_score']=df_link['transformed_text'].apply(lambda x:positivity(x))\n",
    "df_link['Positive_score']"
   ]
  },
  {
   "cell_type": "code",
   "execution_count": 69,
   "metadata": {},
   "outputs": [
    {
     "data": {
      "text/plain": [
       "0      10\n",
       "1       5\n",
       "2      14\n",
       "3      17\n",
       "4      17\n",
       "       ..\n",
       "109     9\n",
       "110    26\n",
       "111    15\n",
       "112    11\n",
       "113    11\n",
       "Name: Negative_score, Length: 114, dtype: int64"
      ]
     },
     "execution_count": 69,
     "metadata": {},
     "output_type": "execute_result"
    }
   ],
   "source": [
    "df_link['Negative_score']=df_link['transformed_text'].apply(lambda x:negativity(x))\n",
    "df_link['Negative_score']"
   ]
  },
  {
   "cell_type": "code",
   "execution_count": 70,
   "metadata": {},
   "outputs": [],
   "source": [
    "# def polarity(p_score,n_score):\n",
    "#     polarity_score = (p_score - n_score)/ ((p_score + n_score) + 0.000001)\n",
    "#     return polarity_score\n"
   ]
  },
  {
   "cell_type": "code",
   "execution_count": 71,
   "metadata": {},
   "outputs": [],
   "source": [
    "def polarity(l):\n",
    "    polarity_scores =[]\n",
    "    for i in l:\n",
    "        polarity_scores.append((i[0] - i[1])/ ((i[0] + i[1]) + 0.000001))\n",
    "    return polarity_scores"
   ]
  },
  {
   "cell_type": "code",
   "execution_count": 72,
   "metadata": {},
   "outputs": [],
   "source": [
    "z=zip(df_link['Positive_score'],df_link['Negative_score'])\n",
    "z=list(z)"
   ]
  },
  {
   "cell_type": "code",
   "execution_count": 73,
   "metadata": {},
   "outputs": [],
   "source": [
    "df_link['Polarity_score']=polarity(z)"
   ]
  },
  {
   "cell_type": "code",
   "execution_count": 74,
   "metadata": {},
   "outputs": [],
   "source": [
    "def subjectivity(l):\n",
    "    subjectivity_scores=[]\n",
    "    for i in l:\n",
    "        total_words=len(i[2])\n",
    "        subjectivity_scores.append((i[0] + i[1])/ (total_words + 0.000001))\n",
    "    return subjectivity_scores"
   ]
  },
  {
   "cell_type": "code",
   "execution_count": 75,
   "metadata": {},
   "outputs": [],
   "source": [
    "z=zip(df_link['Positive_score'],df_link['Negative_score'],df_link['transformed_text'])\n"
   ]
  },
  {
   "cell_type": "code",
   "execution_count": 76,
   "metadata": {},
   "outputs": [
    {
     "data": {
      "text/plain": [
       "0      0.004037\n",
       "1      0.004822\n",
       "2      0.006586\n",
       "3      0.007524\n",
       "4      0.007524\n",
       "         ...   \n",
       "109    0.008663\n",
       "110    0.005754\n",
       "111    0.006330\n",
       "112    0.004897\n",
       "113    0.006332\n",
       "Name: Subjectivity_score, Length: 114, dtype: float64"
      ]
     },
     "execution_count": 76,
     "metadata": {},
     "output_type": "execute_result"
    }
   ],
   "source": [
    "df_link['Subjectivity_score']=subjectivity(z)\n",
    "df_link['Subjectivity_score']"
   ]
  },
  {
   "cell_type": "code",
   "execution_count": 77,
   "metadata": {},
   "outputs": [],
   "source": [
    "def avg_sent_length(l):\n",
    "    score=[]\n",
    "    for i in l:\n",
    "        score.append(i[0]/i[1])\n",
    "    return score\n",
    "\n",
    "    "
   ]
  },
  {
   "cell_type": "code",
   "execution_count": 78,
   "metadata": {},
   "outputs": [
    {
     "data": {
      "text/html": [
       "<div>\n",
       "<style scoped>\n",
       "    .dataframe tbody tr th:only-of-type {\n",
       "        vertical-align: middle;\n",
       "    }\n",
       "\n",
       "    .dataframe tbody tr th {\n",
       "        vertical-align: top;\n",
       "    }\n",
       "\n",
       "    .dataframe thead th {\n",
       "        text-align: right;\n",
       "    }\n",
       "</style>\n",
       "<table border=\"1\" class=\"dataframe\">\n",
       "  <thead>\n",
       "    <tr style=\"text-align: right;\">\n",
       "      <th></th>\n",
       "      <th>URL_ID</th>\n",
       "      <th>URL</th>\n",
       "      <th>POSITIVE SCORE</th>\n",
       "      <th>NEGATIVE SCORE</th>\n",
       "      <th>POLARITY SCORE</th>\n",
       "      <th>SUBJECTIVITY SCORE</th>\n",
       "      <th>AVG SENTENCE LENGTH</th>\n",
       "      <th>PERCENTAGE OF COMPLEX WORDS</th>\n",
       "      <th>FOG INDEX</th>\n",
       "      <th>AVG NUMBER OF WORDS PER SENTENCE</th>\n",
       "      <th>COMPLEX WORD COUNT</th>\n",
       "      <th>WORD COUNT</th>\n",
       "      <th>SYLLABLE PER WORD</th>\n",
       "      <th>PERSONAL PRONOUNS</th>\n",
       "      <th>AVG WORD LENGTH</th>\n",
       "    </tr>\n",
       "  </thead>\n",
       "  <tbody>\n",
       "    <tr>\n",
       "      <th>0</th>\n",
       "      <td>123.0</td>\n",
       "      <td>https://insights.blackcoffer.com/rise-of-telem...</td>\n",
       "      <td>NaN</td>\n",
       "      <td>NaN</td>\n",
       "      <td>NaN</td>\n",
       "      <td>NaN</td>\n",
       "      <td>NaN</td>\n",
       "      <td>NaN</td>\n",
       "      <td>NaN</td>\n",
       "      <td>NaN</td>\n",
       "      <td>NaN</td>\n",
       "      <td>NaN</td>\n",
       "      <td>NaN</td>\n",
       "      <td>NaN</td>\n",
       "      <td>NaN</td>\n",
       "    </tr>\n",
       "    <tr>\n",
       "      <th>1</th>\n",
       "      <td>321.0</td>\n",
       "      <td>https://insights.blackcoffer.com/rise-of-e-hea...</td>\n",
       "      <td>NaN</td>\n",
       "      <td>NaN</td>\n",
       "      <td>NaN</td>\n",
       "      <td>NaN</td>\n",
       "      <td>NaN</td>\n",
       "      <td>NaN</td>\n",
       "      <td>NaN</td>\n",
       "      <td>NaN</td>\n",
       "      <td>NaN</td>\n",
       "      <td>NaN</td>\n",
       "      <td>NaN</td>\n",
       "      <td>NaN</td>\n",
       "      <td>NaN</td>\n",
       "    </tr>\n",
       "    <tr>\n",
       "      <th>2</th>\n",
       "      <td>2345.0</td>\n",
       "      <td>https://insights.blackcoffer.com/rise-of-e-hea...</td>\n",
       "      <td>NaN</td>\n",
       "      <td>NaN</td>\n",
       "      <td>NaN</td>\n",
       "      <td>NaN</td>\n",
       "      <td>NaN</td>\n",
       "      <td>NaN</td>\n",
       "      <td>NaN</td>\n",
       "      <td>NaN</td>\n",
       "      <td>NaN</td>\n",
       "      <td>NaN</td>\n",
       "      <td>NaN</td>\n",
       "      <td>NaN</td>\n",
       "      <td>NaN</td>\n",
       "    </tr>\n",
       "    <tr>\n",
       "      <th>3</th>\n",
       "      <td>4321.0</td>\n",
       "      <td>https://insights.blackcoffer.com/rise-of-telem...</td>\n",
       "      <td>NaN</td>\n",
       "      <td>NaN</td>\n",
       "      <td>NaN</td>\n",
       "      <td>NaN</td>\n",
       "      <td>NaN</td>\n",
       "      <td>NaN</td>\n",
       "      <td>NaN</td>\n",
       "      <td>NaN</td>\n",
       "      <td>NaN</td>\n",
       "      <td>NaN</td>\n",
       "      <td>NaN</td>\n",
       "      <td>NaN</td>\n",
       "      <td>NaN</td>\n",
       "    </tr>\n",
       "    <tr>\n",
       "      <th>4</th>\n",
       "      <td>432.0</td>\n",
       "      <td>https://insights.blackcoffer.com/rise-of-telem...</td>\n",
       "      <td>NaN</td>\n",
       "      <td>NaN</td>\n",
       "      <td>NaN</td>\n",
       "      <td>NaN</td>\n",
       "      <td>NaN</td>\n",
       "      <td>NaN</td>\n",
       "      <td>NaN</td>\n",
       "      <td>NaN</td>\n",
       "      <td>NaN</td>\n",
       "      <td>NaN</td>\n",
       "      <td>NaN</td>\n",
       "      <td>NaN</td>\n",
       "      <td>NaN</td>\n",
       "    </tr>\n",
       "    <tr>\n",
       "      <th>...</th>\n",
       "      <td>...</td>\n",
       "      <td>...</td>\n",
       "      <td>...</td>\n",
       "      <td>...</td>\n",
       "      <td>...</td>\n",
       "      <td>...</td>\n",
       "      <td>...</td>\n",
       "      <td>...</td>\n",
       "      <td>...</td>\n",
       "      <td>...</td>\n",
       "      <td>...</td>\n",
       "      <td>...</td>\n",
       "      <td>...</td>\n",
       "      <td>...</td>\n",
       "      <td>...</td>\n",
       "    </tr>\n",
       "    <tr>\n",
       "      <th>109</th>\n",
       "      <td>50921.0</td>\n",
       "      <td>https://insights.blackcoffer.com/coronavirus-i...</td>\n",
       "      <td>NaN</td>\n",
       "      <td>NaN</td>\n",
       "      <td>NaN</td>\n",
       "      <td>NaN</td>\n",
       "      <td>NaN</td>\n",
       "      <td>NaN</td>\n",
       "      <td>NaN</td>\n",
       "      <td>NaN</td>\n",
       "      <td>NaN</td>\n",
       "      <td>NaN</td>\n",
       "      <td>NaN</td>\n",
       "      <td>NaN</td>\n",
       "      <td>NaN</td>\n",
       "    </tr>\n",
       "    <tr>\n",
       "      <th>110</th>\n",
       "      <td>51382.8</td>\n",
       "      <td>https://insights.blackcoffer.com/coronavirus-i...</td>\n",
       "      <td>NaN</td>\n",
       "      <td>NaN</td>\n",
       "      <td>NaN</td>\n",
       "      <td>NaN</td>\n",
       "      <td>NaN</td>\n",
       "      <td>NaN</td>\n",
       "      <td>NaN</td>\n",
       "      <td>NaN</td>\n",
       "      <td>NaN</td>\n",
       "      <td>NaN</td>\n",
       "      <td>NaN</td>\n",
       "      <td>NaN</td>\n",
       "      <td>NaN</td>\n",
       "    </tr>\n",
       "    <tr>\n",
       "      <th>111</th>\n",
       "      <td>51844.6</td>\n",
       "      <td>https://insights.blackcoffer.com/what-are-the-...</td>\n",
       "      <td>NaN</td>\n",
       "      <td>NaN</td>\n",
       "      <td>NaN</td>\n",
       "      <td>NaN</td>\n",
       "      <td>NaN</td>\n",
       "      <td>NaN</td>\n",
       "      <td>NaN</td>\n",
       "      <td>NaN</td>\n",
       "      <td>NaN</td>\n",
       "      <td>NaN</td>\n",
       "      <td>NaN</td>\n",
       "      <td>NaN</td>\n",
       "      <td>NaN</td>\n",
       "    </tr>\n",
       "    <tr>\n",
       "      <th>112</th>\n",
       "      <td>52306.4</td>\n",
       "      <td>https://insights.blackcoffer.com/marketing-dri...</td>\n",
       "      <td>NaN</td>\n",
       "      <td>NaN</td>\n",
       "      <td>NaN</td>\n",
       "      <td>NaN</td>\n",
       "      <td>NaN</td>\n",
       "      <td>NaN</td>\n",
       "      <td>NaN</td>\n",
       "      <td>NaN</td>\n",
       "      <td>NaN</td>\n",
       "      <td>NaN</td>\n",
       "      <td>NaN</td>\n",
       "      <td>NaN</td>\n",
       "      <td>NaN</td>\n",
       "    </tr>\n",
       "    <tr>\n",
       "      <th>113</th>\n",
       "      <td>52768.2</td>\n",
       "      <td>https://insights.blackcoffer.com/continued-dem...</td>\n",
       "      <td>NaN</td>\n",
       "      <td>NaN</td>\n",
       "      <td>NaN</td>\n",
       "      <td>NaN</td>\n",
       "      <td>NaN</td>\n",
       "      <td>NaN</td>\n",
       "      <td>NaN</td>\n",
       "      <td>NaN</td>\n",
       "      <td>NaN</td>\n",
       "      <td>NaN</td>\n",
       "      <td>NaN</td>\n",
       "      <td>NaN</td>\n",
       "      <td>NaN</td>\n",
       "    </tr>\n",
       "  </tbody>\n",
       "</table>\n",
       "<p>114 rows × 15 columns</p>\n",
       "</div>"
      ],
      "text/plain": [
       "      URL_ID                                                URL  \\\n",
       "0      123.0  https://insights.blackcoffer.com/rise-of-telem...   \n",
       "1      321.0  https://insights.blackcoffer.com/rise-of-e-hea...   \n",
       "2     2345.0  https://insights.blackcoffer.com/rise-of-e-hea...   \n",
       "3     4321.0  https://insights.blackcoffer.com/rise-of-telem...   \n",
       "4      432.0  https://insights.blackcoffer.com/rise-of-telem...   \n",
       "..       ...                                                ...   \n",
       "109  50921.0  https://insights.blackcoffer.com/coronavirus-i...   \n",
       "110  51382.8  https://insights.blackcoffer.com/coronavirus-i...   \n",
       "111  51844.6  https://insights.blackcoffer.com/what-are-the-...   \n",
       "112  52306.4  https://insights.blackcoffer.com/marketing-dri...   \n",
       "113  52768.2  https://insights.blackcoffer.com/continued-dem...   \n",
       "\n",
       "     POSITIVE SCORE  NEGATIVE SCORE  POLARITY SCORE  SUBJECTIVITY SCORE  \\\n",
       "0               NaN             NaN             NaN                 NaN   \n",
       "1               NaN             NaN             NaN                 NaN   \n",
       "2               NaN             NaN             NaN                 NaN   \n",
       "3               NaN             NaN             NaN                 NaN   \n",
       "4               NaN             NaN             NaN                 NaN   \n",
       "..              ...             ...             ...                 ...   \n",
       "109             NaN             NaN             NaN                 NaN   \n",
       "110             NaN             NaN             NaN                 NaN   \n",
       "111             NaN             NaN             NaN                 NaN   \n",
       "112             NaN             NaN             NaN                 NaN   \n",
       "113             NaN             NaN             NaN                 NaN   \n",
       "\n",
       "     AVG SENTENCE LENGTH  PERCENTAGE OF COMPLEX WORDS  FOG INDEX  \\\n",
       "0                    NaN                          NaN        NaN   \n",
       "1                    NaN                          NaN        NaN   \n",
       "2                    NaN                          NaN        NaN   \n",
       "3                    NaN                          NaN        NaN   \n",
       "4                    NaN                          NaN        NaN   \n",
       "..                   ...                          ...        ...   \n",
       "109                  NaN                          NaN        NaN   \n",
       "110                  NaN                          NaN        NaN   \n",
       "111                  NaN                          NaN        NaN   \n",
       "112                  NaN                          NaN        NaN   \n",
       "113                  NaN                          NaN        NaN   \n",
       "\n",
       "     AVG NUMBER OF WORDS PER SENTENCE  COMPLEX WORD COUNT  WORD COUNT  \\\n",
       "0                                 NaN                 NaN         NaN   \n",
       "1                                 NaN                 NaN         NaN   \n",
       "2                                 NaN                 NaN         NaN   \n",
       "3                                 NaN                 NaN         NaN   \n",
       "4                                 NaN                 NaN         NaN   \n",
       "..                                ...                 ...         ...   \n",
       "109                               NaN                 NaN         NaN   \n",
       "110                               NaN                 NaN         NaN   \n",
       "111                               NaN                 NaN         NaN   \n",
       "112                               NaN                 NaN         NaN   \n",
       "113                               NaN                 NaN         NaN   \n",
       "\n",
       "     SYLLABLE PER WORD  PERSONAL PRONOUNS  AVG WORD LENGTH  \n",
       "0                  NaN                NaN              NaN  \n",
       "1                  NaN                NaN              NaN  \n",
       "2                  NaN                NaN              NaN  \n",
       "3                  NaN                NaN              NaN  \n",
       "4                  NaN                NaN              NaN  \n",
       "..                 ...                ...              ...  \n",
       "109                NaN                NaN              NaN  \n",
       "110                NaN                NaN              NaN  \n",
       "111                NaN                NaN              NaN  \n",
       "112                NaN                NaN              NaN  \n",
       "113                NaN                NaN              NaN  \n",
       "\n",
       "[114 rows x 15 columns]"
      ]
     },
     "execution_count": 78,
     "metadata": {},
     "output_type": "execute_result"
    }
   ],
   "source": [
    "df_out"
   ]
  },
  {
   "cell_type": "code",
   "execution_count": 79,
   "metadata": {},
   "outputs": [],
   "source": [
    "df_link['avg_sent_length']=avg_sent_length(zip(df_link['num_words'],df_link['num_sentencecs']))\n"
   ]
  },
  {
   "cell_type": "code",
   "execution_count": 80,
   "metadata": {},
   "outputs": [],
   "source": [
    "def complex_word_count(words):\n",
    "    pattern = \"\\w*[aeiou]\\w*\"\n",
    "    if words==None:\n",
    "        return {}\n",
    "    match=re.findall(pattern,words)\n",
    "    pattern2=\"[aeiou]\"\n",
    "    l=set()\n",
    "    for word in match:\n",
    "        n_vowels=re.findall(pattern2,word)\n",
    "        if len(n_vowels)>=2:\n",
    "            l.update(word)\n",
    "    return l"
   ]
  },
  {
   "cell_type": "code",
   "execution_count": 81,
   "metadata": {},
   "outputs": [],
   "source": [
    "df_link['Complex_words']=df_link['url_text'].apply(lambda x:len(complex_word_count(x)))"
   ]
  },
  {
   "cell_type": "code",
   "execution_count": 82,
   "metadata": {},
   "outputs": [
    {
     "data": {
      "text/html": [
       "<div>\n",
       "<style scoped>\n",
       "    .dataframe tbody tr th:only-of-type {\n",
       "        vertical-align: middle;\n",
       "    }\n",
       "\n",
       "    .dataframe tbody tr th {\n",
       "        vertical-align: top;\n",
       "    }\n",
       "\n",
       "    .dataframe thead th {\n",
       "        text-align: right;\n",
       "    }\n",
       "</style>\n",
       "<table border=\"1\" class=\"dataframe\">\n",
       "  <thead>\n",
       "    <tr style=\"text-align: right;\">\n",
       "      <th></th>\n",
       "      <th>URL_ID</th>\n",
       "      <th>URL</th>\n",
       "      <th>url_text</th>\n",
       "      <th>num_characters</th>\n",
       "      <th>num_words</th>\n",
       "      <th>num_sentencecs</th>\n",
       "      <th>transformed_text</th>\n",
       "      <th>Positive_score</th>\n",
       "      <th>Negative_score</th>\n",
       "      <th>Polarity_score</th>\n",
       "      <th>Subjectivity_score</th>\n",
       "      <th>avg_sent_length</th>\n",
       "      <th>Complex_words</th>\n",
       "    </tr>\n",
       "  </thead>\n",
       "  <tbody>\n",
       "    <tr>\n",
       "      <th>24</th>\n",
       "      <td>11668.0</td>\n",
       "      <td>https://insights.blackcoffer.com/how-neural-ne...</td>\n",
       "      <td>None</td>\n",
       "      <td>4</td>\n",
       "      <td>1</td>\n",
       "      <td>1</td>\n",
       "      <td>none</td>\n",
       "      <td>0</td>\n",
       "      <td>0</td>\n",
       "      <td>0.0</td>\n",
       "      <td>0.0</td>\n",
       "      <td>1.0</td>\n",
       "      <td>0</td>\n",
       "    </tr>\n",
       "  </tbody>\n",
       "</table>\n",
       "</div>"
      ],
      "text/plain": [
       "     URL_ID                                                URL url_text  \\\n",
       "24  11668.0  https://insights.blackcoffer.com/how-neural-ne...     None   \n",
       "\n",
       "    num_characters  num_words  num_sentencecs transformed_text  \\\n",
       "24               4          1               1             none   \n",
       "\n",
       "    Positive_score  Negative_score  Polarity_score  Subjectivity_score  \\\n",
       "24               0               0             0.0                 0.0   \n",
       "\n",
       "    avg_sent_length  Complex_words  \n",
       "24              1.0              0  "
      ]
     },
     "execution_count": 82,
     "metadata": {},
     "output_type": "execute_result"
    }
   ],
   "source": [
    "df_link[df_link.index==24]"
   ]
  },
  {
   "cell_type": "code",
   "execution_count": 83,
   "metadata": {},
   "outputs": [],
   "source": [
    "df_link['cleaned_word_count']=df_link['transformed_text'].apply(lambda x:len(nltk.word_tokenize(x)))"
   ]
  },
  {
   "cell_type": "code",
   "execution_count": 84,
   "metadata": {},
   "outputs": [
    {
     "data": {
      "text/html": [
       "<div>\n",
       "<style scoped>\n",
       "    .dataframe tbody tr th:only-of-type {\n",
       "        vertical-align: middle;\n",
       "    }\n",
       "\n",
       "    .dataframe tbody tr th {\n",
       "        vertical-align: top;\n",
       "    }\n",
       "\n",
       "    .dataframe thead th {\n",
       "        text-align: right;\n",
       "    }\n",
       "</style>\n",
       "<table border=\"1\" class=\"dataframe\">\n",
       "  <thead>\n",
       "    <tr style=\"text-align: right;\">\n",
       "      <th></th>\n",
       "      <th>URL_ID</th>\n",
       "      <th>URL</th>\n",
       "      <th>url_text</th>\n",
       "      <th>num_characters</th>\n",
       "      <th>num_words</th>\n",
       "      <th>num_sentencecs</th>\n",
       "      <th>transformed_text</th>\n",
       "      <th>Positive_score</th>\n",
       "      <th>Negative_score</th>\n",
       "      <th>Polarity_score</th>\n",
       "      <th>Subjectivity_score</th>\n",
       "      <th>avg_sent_length</th>\n",
       "      <th>Complex_words</th>\n",
       "      <th>cleaned_word_count</th>\n",
       "    </tr>\n",
       "  </thead>\n",
       "  <tbody>\n",
       "    <tr>\n",
       "      <th>0</th>\n",
       "      <td>123.0</td>\n",
       "      <td>https://insights.blackcoffer.com/rise-of-telem...</td>\n",
       "      <td>Telemedicine, the use of technology to diagnos...</td>\n",
       "      <td>11091</td>\n",
       "      <td>1837</td>\n",
       "      <td>79</td>\n",
       "      <td>telemedicin technolog diagnos treat patient re...</td>\n",
       "      <td>16</td>\n",
       "      <td>10</td>\n",
       "      <td>0.230769</td>\n",
       "      <td>0.004037</td>\n",
       "      <td>23.253165</td>\n",
       "      <td>38</td>\n",
       "      <td>899</td>\n",
       "    </tr>\n",
       "    <tr>\n",
       "      <th>1</th>\n",
       "      <td>321.0</td>\n",
       "      <td>https://insights.blackcoffer.com/rise-of-e-hea...</td>\n",
       "      <td>The rise of e-health, or the use of electronic...</td>\n",
       "      <td>3919</td>\n",
       "      <td>648</td>\n",
       "      <td>24</td>\n",
       "      <td>the rise electron mean facilit health care maj...</td>\n",
       "      <td>5</td>\n",
       "      <td>5</td>\n",
       "      <td>0.000000</td>\n",
       "      <td>0.004822</td>\n",
       "      <td>27.000000</td>\n",
       "      <td>29</td>\n",
       "      <td>286</td>\n",
       "    </tr>\n",
       "    <tr>\n",
       "      <th>2</th>\n",
       "      <td>2345.0</td>\n",
       "      <td>https://insights.blackcoffer.com/rise-of-e-hea...</td>\n",
       "      <td>2020 was the year the world was ravaged by the...</td>\n",
       "      <td>6863</td>\n",
       "      <td>1199</td>\n",
       "      <td>68</td>\n",
       "      <td>2020 year world ravag sarscov2 viru thi notori...</td>\n",
       "      <td>11</td>\n",
       "      <td>14</td>\n",
       "      <td>-0.120000</td>\n",
       "      <td>0.006586</td>\n",
       "      <td>17.632353</td>\n",
       "      <td>44</td>\n",
       "      <td>561</td>\n",
       "    </tr>\n",
       "    <tr>\n",
       "      <th>3</th>\n",
       "      <td>4321.0</td>\n",
       "      <td>https://insights.blackcoffer.com/rise-of-telem...</td>\n",
       "      <td>“More gains on quality, affordability and acce...</td>\n",
       "      <td>8065</td>\n",
       "      <td>1354</td>\n",
       "      <td>59</td>\n",
       "      <td>more gain qualiti afford access what mean as w...</td>\n",
       "      <td>17</td>\n",
       "      <td>17</td>\n",
       "      <td>0.000000</td>\n",
       "      <td>0.007524</td>\n",
       "      <td>22.949153</td>\n",
       "      <td>42</td>\n",
       "      <td>656</td>\n",
       "    </tr>\n",
       "    <tr>\n",
       "      <th>4</th>\n",
       "      <td>432.0</td>\n",
       "      <td>https://insights.blackcoffer.com/rise-of-telem...</td>\n",
       "      <td>“More gains on quality, affordability and acce...</td>\n",
       "      <td>8065</td>\n",
       "      <td>1354</td>\n",
       "      <td>59</td>\n",
       "      <td>more gain qualiti afford access what mean as w...</td>\n",
       "      <td>17</td>\n",
       "      <td>17</td>\n",
       "      <td>0.000000</td>\n",
       "      <td>0.007524</td>\n",
       "      <td>22.949153</td>\n",
       "      <td>42</td>\n",
       "      <td>656</td>\n",
       "    </tr>\n",
       "    <tr>\n",
       "      <th>...</th>\n",
       "      <td>...</td>\n",
       "      <td>...</td>\n",
       "      <td>...</td>\n",
       "      <td>...</td>\n",
       "      <td>...</td>\n",
       "      <td>...</td>\n",
       "      <td>...</td>\n",
       "      <td>...</td>\n",
       "      <td>...</td>\n",
       "      <td>...</td>\n",
       "      <td>...</td>\n",
       "      <td>...</td>\n",
       "      <td>...</td>\n",
       "      <td>...</td>\n",
       "    </tr>\n",
       "    <tr>\n",
       "      <th>109</th>\n",
       "      <td>50921.0</td>\n",
       "      <td>https://insights.blackcoffer.com/coronavirus-i...</td>\n",
       "      <td>Before jumping on the topic I would like to gi...</td>\n",
       "      <td>2967</td>\n",
       "      <td>527</td>\n",
       "      <td>21</td>\n",
       "      <td>befor jump topic give overview coronaviru spre...</td>\n",
       "      <td>5</td>\n",
       "      <td>9</td>\n",
       "      <td>-0.285714</td>\n",
       "      <td>0.008663</td>\n",
       "      <td>25.095238</td>\n",
       "      <td>40</td>\n",
       "      <td>264</td>\n",
       "    </tr>\n",
       "    <tr>\n",
       "      <th>110</th>\n",
       "      <td>51382.8</td>\n",
       "      <td>https://insights.blackcoffer.com/coronavirus-i...</td>\n",
       "      <td>As the coronavirus spreads around the world an...</td>\n",
       "      <td>10515</td>\n",
       "      <td>1871</td>\n",
       "      <td>49</td>\n",
       "      <td>as coronaviru spread world countri implement c...</td>\n",
       "      <td>11</td>\n",
       "      <td>26</td>\n",
       "      <td>-0.405405</td>\n",
       "      <td>0.005754</td>\n",
       "      <td>38.183673</td>\n",
       "      <td>44</td>\n",
       "      <td>983</td>\n",
       "    </tr>\n",
       "    <tr>\n",
       "      <th>111</th>\n",
       "      <td>51844.6</td>\n",
       "      <td>https://insights.blackcoffer.com/what-are-the-...</td>\n",
       "      <td>From Alibaba to Ping An and Google to Ford, co...</td>\n",
       "      <td>10668</td>\n",
       "      <td>1885</td>\n",
       "      <td>70</td>\n",
       "      <td>from alibaba ping an googl ford compani globe ...</td>\n",
       "      <td>21</td>\n",
       "      <td>15</td>\n",
       "      <td>0.166667</td>\n",
       "      <td>0.006330</td>\n",
       "      <td>26.928571</td>\n",
       "      <td>45</td>\n",
       "      <td>883</td>\n",
       "    </tr>\n",
       "    <tr>\n",
       "      <th>112</th>\n",
       "      <td>52306.4</td>\n",
       "      <td>https://insights.blackcoffer.com/marketing-dri...</td>\n",
       "      <td>When the British ruled India, many Indians acc...</td>\n",
       "      <td>8627</td>\n",
       "      <td>1571</td>\n",
       "      <td>59</td>\n",
       "      <td>when british rule india indian accept work pol...</td>\n",
       "      <td>10</td>\n",
       "      <td>11</td>\n",
       "      <td>-0.047619</td>\n",
       "      <td>0.004897</td>\n",
       "      <td>26.627119</td>\n",
       "      <td>49</td>\n",
       "      <td>669</td>\n",
       "    </tr>\n",
       "    <tr>\n",
       "      <th>113</th>\n",
       "      <td>52768.2</td>\n",
       "      <td>https://insights.blackcoffer.com/continued-dem...</td>\n",
       "      <td>The business of business is no longer to do ju...</td>\n",
       "      <td>4541</td>\n",
       "      <td>746</td>\n",
       "      <td>27</td>\n",
       "      <td>the busi busi longer busi increas bottom line ...</td>\n",
       "      <td>5</td>\n",
       "      <td>11</td>\n",
       "      <td>-0.375000</td>\n",
       "      <td>0.006332</td>\n",
       "      <td>27.629630</td>\n",
       "      <td>44</td>\n",
       "      <td>376</td>\n",
       "    </tr>\n",
       "  </tbody>\n",
       "</table>\n",
       "<p>114 rows × 14 columns</p>\n",
       "</div>"
      ],
      "text/plain": [
       "      URL_ID                                                URL  \\\n",
       "0      123.0  https://insights.blackcoffer.com/rise-of-telem...   \n",
       "1      321.0  https://insights.blackcoffer.com/rise-of-e-hea...   \n",
       "2     2345.0  https://insights.blackcoffer.com/rise-of-e-hea...   \n",
       "3     4321.0  https://insights.blackcoffer.com/rise-of-telem...   \n",
       "4      432.0  https://insights.blackcoffer.com/rise-of-telem...   \n",
       "..       ...                                                ...   \n",
       "109  50921.0  https://insights.blackcoffer.com/coronavirus-i...   \n",
       "110  51382.8  https://insights.blackcoffer.com/coronavirus-i...   \n",
       "111  51844.6  https://insights.blackcoffer.com/what-are-the-...   \n",
       "112  52306.4  https://insights.blackcoffer.com/marketing-dri...   \n",
       "113  52768.2  https://insights.blackcoffer.com/continued-dem...   \n",
       "\n",
       "                                              url_text  num_characters  \\\n",
       "0    Telemedicine, the use of technology to diagnos...           11091   \n",
       "1    The rise of e-health, or the use of electronic...            3919   \n",
       "2    2020 was the year the world was ravaged by the...            6863   \n",
       "3    “More gains on quality, affordability and acce...            8065   \n",
       "4    “More gains on quality, affordability and acce...            8065   \n",
       "..                                                 ...             ...   \n",
       "109  Before jumping on the topic I would like to gi...            2967   \n",
       "110  As the coronavirus spreads around the world an...           10515   \n",
       "111  From Alibaba to Ping An and Google to Ford, co...           10668   \n",
       "112  When the British ruled India, many Indians acc...            8627   \n",
       "113  The business of business is no longer to do ju...            4541   \n",
       "\n",
       "     num_words  num_sentencecs  \\\n",
       "0         1837              79   \n",
       "1          648              24   \n",
       "2         1199              68   \n",
       "3         1354              59   \n",
       "4         1354              59   \n",
       "..         ...             ...   \n",
       "109        527              21   \n",
       "110       1871              49   \n",
       "111       1885              70   \n",
       "112       1571              59   \n",
       "113        746              27   \n",
       "\n",
       "                                      transformed_text  Positive_score  \\\n",
       "0    telemedicin technolog diagnos treat patient re...              16   \n",
       "1    the rise electron mean facilit health care maj...               5   \n",
       "2    2020 year world ravag sarscov2 viru thi notori...              11   \n",
       "3    more gain qualiti afford access what mean as w...              17   \n",
       "4    more gain qualiti afford access what mean as w...              17   \n",
       "..                                                 ...             ...   \n",
       "109  befor jump topic give overview coronaviru spre...               5   \n",
       "110  as coronaviru spread world countri implement c...              11   \n",
       "111  from alibaba ping an googl ford compani globe ...              21   \n",
       "112  when british rule india indian accept work pol...              10   \n",
       "113  the busi busi longer busi increas bottom line ...               5   \n",
       "\n",
       "     Negative_score  Polarity_score  Subjectivity_score  avg_sent_length  \\\n",
       "0                10        0.230769            0.004037        23.253165   \n",
       "1                 5        0.000000            0.004822        27.000000   \n",
       "2                14       -0.120000            0.006586        17.632353   \n",
       "3                17        0.000000            0.007524        22.949153   \n",
       "4                17        0.000000            0.007524        22.949153   \n",
       "..              ...             ...                 ...              ...   \n",
       "109               9       -0.285714            0.008663        25.095238   \n",
       "110              26       -0.405405            0.005754        38.183673   \n",
       "111              15        0.166667            0.006330        26.928571   \n",
       "112              11       -0.047619            0.004897        26.627119   \n",
       "113              11       -0.375000            0.006332        27.629630   \n",
       "\n",
       "     Complex_words  cleaned_word_count  \n",
       "0               38                 899  \n",
       "1               29                 286  \n",
       "2               44                 561  \n",
       "3               42                 656  \n",
       "4               42                 656  \n",
       "..             ...                 ...  \n",
       "109             40                 264  \n",
       "110             44                 983  \n",
       "111             45                 883  \n",
       "112             49                 669  \n",
       "113             44                 376  \n",
       "\n",
       "[114 rows x 14 columns]"
      ]
     },
     "execution_count": 84,
     "metadata": {},
     "output_type": "execute_result"
    }
   ],
   "source": [
    "df_link"
   ]
  },
  {
   "cell_type": "code",
   "execution_count": 85,
   "metadata": {},
   "outputs": [],
   "source": [
    "def syllable_count(words):\n",
    "    pattern = \"\\w*[aeiou]\\w*\"\n",
    "    if words==None:\n",
    "        return []\n",
    "    match=re.findall(pattern,words)  # getting list of words have vowels\n",
    "    l=set(match)\n",
    "    temp=set()\n",
    "    for word in match:\n",
    "        es_word=re.findall(\"\\w+es$\",word)\n",
    "        if len(es_word)!=0:        # getting the words end with 'es' from the vowel list\n",
    "            temp.update(es_word)\n",
    "    l.difference_update(temp)       # updating the set by removing words end with 'es'\n",
    "    temp.clear()\n",
    "    for word in match:\n",
    "        ed_word=re.findall(\"\\w+ed$\",word)\n",
    "        if len(ed_word)!=0:        # getting the words end with 'ed' from the vowel list\n",
    "            temp.update(ed_word)\n",
    "    l.difference_update(temp)     # updating the set by removing words end with 'ed'\n",
    "    return l"
   ]
  },
  {
   "cell_type": "code",
   "execution_count": 86,
   "metadata": {},
   "outputs": [],
   "source": [
    "def syllable_count_for_ends(words,end_words):\n",
    "    for end in end_words:\n",
    "        pattern = \"\\w*[aeiou]\\w*\"\n",
    "        if words==None:\n",
    "            return []\n",
    "        match=re.findall(pattern,words)  # getting list of words have vowels\n",
    "        l=set(match)\n",
    "        temp=set()\n",
    "        for word in match:\n",
    "            es_word=re.findall(f\"\\w+{end}$\",word)\n",
    "            if len(es_word)!=0:        # getting the words end with 'es' from the vowel list\n",
    "                temp.update(es_word)\n",
    "        l.difference_update(temp)       # updating the set by removing words end with 'es'\n",
    "        temp.clear()\n",
    "    return l"
   ]
  },
  {
   "cell_type": "code",
   "execution_count": 87,
   "metadata": {},
   "outputs": [],
   "source": [
    "\n",
    "# pattern = \"\\w*[aeiou]\\w*\"\n",
    "# match=re.findall(pattern,words)\n",
    "# l=set(match)                      # this are for solving purpose\n",
    "# temp=set()\n",
    "# for word in match:\n",
    "#     es_words=re.findall(\"\\w+es$\",word)\n",
    "#     if len(es_words)!=0:\n",
    "#         temp.update(es_words)\n",
    "# #     ed_words=re.findall(\"\\w+ed$\",word)\n",
    "# # es_words\n",
    "# l.difference_update(temp)\n",
    "# len(l)"
   ]
  },
  {
   "cell_type": "code",
   "execution_count": 88,
   "metadata": {},
   "outputs": [],
   "source": [
    "df_link['syllable_count']=df_link['url_text'].apply(lambda x:len(syllable_count(x)))"
   ]
  },
  {
   "cell_type": "code",
   "execution_count": 89,
   "metadata": {},
   "outputs": [],
   "source": [
    "def personal_pronoun(words):\n",
    "    p_nouns=[\"I\",\"we\",\"my\",\"ours\", \"us\",\"you\",\"they\",\"it\",\"she\",\"he\"]\n",
    "    score=0\n",
    "    if words == None:\n",
    "        return 0\n",
    "    for word in nltk.word_tokenize(words):\n",
    "        if word in p_nouns:\n",
    "            score+=1\n",
    "    return score"
   ]
  },
  {
   "cell_type": "code",
   "execution_count": 140,
   "metadata": {},
   "outputs": [],
   "source": [
    "\n",
    "# using regex\n",
    "def count_personal_pronouns(words):\n",
    "    if words == None:\n",
    "        return 0\n",
    "    pattern = r'\\b(I|we|my|ours|us|you|they|it|she|he)\\b'\n",
    "    matches = re.findall(pattern, words)\n",
    "    if \"US\" in matches:\n",
    "        matches.remove('US')    \n",
    "    return len(matches)\n",
    "\n",
    "\n"
   ]
  },
  {
   "cell_type": "code",
   "execution_count": 141,
   "metadata": {},
   "outputs": [
    {
     "name": "stdout",
     "output_type": "stream",
     "text": [
      "12\n"
     ]
    }
   ],
   "source": [
    "print(count_personal_pronouns(df_link['url_text'][1]))\n"
   ]
  },
  {
   "cell_type": "code",
   "execution_count": 145,
   "metadata": {},
   "outputs": [
    {
     "data": {
      "text/plain": [
       "12"
      ]
     },
     "execution_count": 145,
     "metadata": {},
     "output_type": "execute_result"
    }
   ],
   "source": [
    "personal_pronoun(df_link['url_text'][1])"
   ]
  },
  {
   "cell_type": "code",
   "execution_count": 142,
   "metadata": {},
   "outputs": [],
   "source": [
    "df_link['personal_pronoun_count']=df_link['url_text'].apply(lambda x:count_personal_pronouns(x))"
   ]
  },
  {
   "cell_type": "code",
   "execution_count": 90,
   "metadata": {},
   "outputs": [
    {
     "data": {
      "text/plain": [
       "6863"
      ]
     },
     "execution_count": 90,
     "metadata": {},
     "output_type": "execute_result"
    }
   ],
   "source": [
    "len(df_link['url_text'][2])"
   ]
  },
  {
   "cell_type": "code",
   "execution_count": 91,
   "metadata": {},
   "outputs": [
    {
     "name": "stdout",
     "output_type": "stream",
     "text": [
      "88 set()\n"
     ]
    }
   ],
   "source": [
    "sent=df_link['url_text']\n",
    "index_list=[]\n",
    "index=0\n",
    "score=[]\n",
    "p_nouns=[\"I\",\"we\",\"my\",\"ours\", \"us\",\"you\",\"they\",\"it\",\"she\",\"he\"]\n",
    "for words in sent:\n",
    "    if words == None:\n",
    "            continue\n",
    "    for word in nltk.word_tokenize(words):\n",
    "        if word in p_nouns:\n",
    "            score.append(word)\n",
    "    if len(score)==0:\n",
    "        index_list.append(index)\n",
    "        print(index,set(score))\n",
    "    index+=1\n",
    "    score.clear()\n",
    "\n"
   ]
  },
  {
   "cell_type": "code",
   "execution_count": 92,
   "metadata": {},
   "outputs": [],
   "source": [
    "def average_word_length(sum_chars,sum_words):\n",
    "    scores=[]\n",
    "    for i in range(len(sum_chars)):\n",
    "        scores.append(sum_chars[i]//sum_words[i])\n",
    "    return scores\n"
   ]
  },
  {
   "cell_type": "code",
   "execution_count": 93,
   "metadata": {},
   "outputs": [],
   "source": [
    "def percentage_complex_words(complex_words,norm_words):\n",
    "    scores=[]\n",
    "    for i in range(len(complex_words)):\n",
    "        scores.append((complex_words[i]//norm_words[i]*100))\n",
    "    return scores\n",
    "\n"
   ]
  },
  {
   "cell_type": "code",
   "execution_count": 94,
   "metadata": {},
   "outputs": [],
   "source": [
    "def average_sentence_length(n_words,n_sentences):\n",
    "    scores=[]\n",
    "    for i in range(len(n_words)):\n",
    "        scores.append(n_words[i]//n_sentences[i])\n",
    "    return scores\n",
    "    "
   ]
  },
  {
   "cell_type": "code",
   "execution_count": 95,
   "metadata": {},
   "outputs": [],
   "source": [
    "def average_words_per_sentence(n_words,n_sentences):\n",
    "    scores=[]\n",
    "    for i in range(len(n_words)):\n",
    "        scores.append(n_words[i]//n_sentences[i])\n",
    "    return scores"
   ]
  },
  {
   "cell_type": "code",
   "execution_count": 96,
   "metadata": {},
   "outputs": [],
   "source": [
    "# Fog Index = 0.4 * (Average Sentence Length + Percentage of Complex words)\n",
    "def fog_index(avg_sent_lengths,complex_words):\n",
    "    scores=[]\n",
    "    for i in range(len(avg_sent_lengths)):\n",
    "        scores.append(0.4*(avg_sent_lengths[i]+complex_words[i]))\n",
    "    return scores\n",
    "\n"
   ]
  },
  {
   "cell_type": "code",
   "execution_count": 97,
   "metadata": {},
   "outputs": [],
   "source": [
    "df_link['average_word_length']=average_word_length(df_link['num_characters'],df_link['num_words'])"
   ]
  },
  {
   "cell_type": "code",
   "execution_count": 98,
   "metadata": {},
   "outputs": [],
   "source": [
    "df_link['percentage_complex_words']=percentage_complex_words(df_link['Complex_words'],df_link['num_words'])"
   ]
  },
  {
   "cell_type": "code",
   "execution_count": 99,
   "metadata": {},
   "outputs": [],
   "source": [
    "df_link['average_sentence_length']=average_sentence_length(df_link['num_words'],df_link['num_sentencecs'])"
   ]
  },
  {
   "cell_type": "code",
   "execution_count": 100,
   "metadata": {},
   "outputs": [],
   "source": [
    "df_link['fog_index']=fog_index(df_link['average_sentence_length'],df_link['percentage_complex_words'])"
   ]
  },
  {
   "cell_type": "code",
   "execution_count": 101,
   "metadata": {},
   "outputs": [],
   "source": [
    "df_link['average_words_per_sentence']=average_words_per_sentence(df_link['num_words'],df_link['num_sentencecs'])"
   ]
  },
  {
   "cell_type": "code",
   "execution_count": 102,
   "metadata": {},
   "outputs": [
    {
     "data": {
      "text/plain": [
       "Index(['URL_ID', 'URL', 'url_text', 'num_characters', 'num_words',\n",
       "       'num_sentencecs', 'transformed_text', 'Positive_score',\n",
       "       'Negative_score', 'Polarity_score', 'Subjectivity_score',\n",
       "       'avg_sent_length', 'Complex_words', 'cleaned_word_count',\n",
       "       'syllable_count', 'average_word_length', 'percentage_complex_words',\n",
       "       'average_sentence_length', 'fog_index', 'average_words_per_sentence'],\n",
       "      dtype='object')"
      ]
     },
     "execution_count": 102,
     "metadata": {},
     "output_type": "execute_result"
    }
   ],
   "source": [
    "df_link.columns"
   ]
  },
  {
   "cell_type": "code",
   "execution_count": 103,
   "metadata": {},
   "outputs": [
    {
     "data": {
      "text/plain": [
       "'https://insights.blackcoffer.com/rise-of-e-health-and-its-imapct-on-humans-by-the-year-2030-2/'"
      ]
     },
     "execution_count": 103,
     "metadata": {},
     "output_type": "execute_result"
    },
    {
     "data": {
      "text/plain": [
       "'https://insights.blackcoffer.com/how-advertisement-increase-your-market-value/'"
      ]
     },
     "execution_count": 103,
     "metadata": {},
     "output_type": "execute_result"
    },
    {
     "data": {
      "text/plain": [
       "'https://insights.blackcoffer.com/ai-in-healthcare-to-improve-patient-outcomes/'"
      ]
     },
     "execution_count": 103,
     "metadata": {},
     "output_type": "execute_result"
    }
   ],
   "source": [
    "index_list=[2,8,17]\n",
    "for i in index_list:\n",
    "    df_link['URL'][i]\n"
   ]
  },
  {
   "cell_type": "code",
   "execution_count": 104,
   "metadata": {},
   "outputs": [
    {
     "data": {
      "text/plain": [
       "'https://insights.blackcoffer.com/rise-of-telemedicine-and-its-impact-on-livelihood-by-2040-3-2/'"
      ]
     },
     "execution_count": 104,
     "metadata": {},
     "output_type": "execute_result"
    }
   ],
   "source": [
    "df_link['URL'][0]"
   ]
  },
  {
   "cell_type": "code",
   "execution_count": 105,
   "metadata": {},
   "outputs": [],
   "source": [
    "# from selenium.webdriver import Chrome\n",
    "# from selenium.webdriver.common.by import By\n",
    "\n",
    "# def extreme_Extraction(url_list):\n",
    "#     driver=Chrome()\n",
    "#     text_list=[]\n",
    "#     for url in url_list:\n",
    "#         driver.get(url)\n",
    "#         tags=driver.find_elements(By.TAG_NAME,'p')\n",
    "#         p_list=[i.text for i in tags]\n",
    "#         p_list.remove('© All Right Reserved, Blackcoffer(OPC) Pvt. Ltd')\n",
    "#         p_list.remove('Contact us: hello@blackcoffer.com')\n",
    "#         p_list=[sent for sent in p_list if sent !=\"\"]\n",
    "#         text_list.append(str(p_list))\n",
    "#     driver.quit()\n",
    "#     return text_list"
   ]
  },
  {
   "cell_type": "code",
   "execution_count": 106,
   "metadata": {},
   "outputs": [],
   "source": [
    "# driver=Chrome()\n",
    "# # for i in index_list:\n",
    "# driver.get(df_link['URL'][2])\n",
    "# # class=\"td_block_wrap tdb_single_content tdi_130 td-pb-border-top td_block_template_1 td-post-content tagdiv-type\"\n",
    "# # class=\"vc_column tdi_120  wpb_column vc_column_container tdc-column td-pb-span8\"\n",
    "\n",
    "# tags=driver.find_element(By.CLASS_NAME,\"tdb-title-text\")\n",
    "# print(tags.text)\n",
    "# # l=[i.text for i in tags]\n",
    "# # l.remove\n",
    "\n",
    "# driver.quit()\n"
   ]
  },
  {
   "cell_type": "code",
   "execution_count": 107,
   "metadata": {},
   "outputs": [
    {
     "data": {
      "text/html": [
       "<div>\n",
       "<style scoped>\n",
       "    .dataframe tbody tr th:only-of-type {\n",
       "        vertical-align: middle;\n",
       "    }\n",
       "\n",
       "    .dataframe tbody tr th {\n",
       "        vertical-align: top;\n",
       "    }\n",
       "\n",
       "    .dataframe thead th {\n",
       "        text-align: right;\n",
       "    }\n",
       "</style>\n",
       "<table border=\"1\" class=\"dataframe\">\n",
       "  <thead>\n",
       "    <tr style=\"text-align: right;\">\n",
       "      <th></th>\n",
       "      <th>URL_ID</th>\n",
       "      <th>URL</th>\n",
       "      <th>url_text</th>\n",
       "      <th>num_characters</th>\n",
       "      <th>num_words</th>\n",
       "      <th>num_sentencecs</th>\n",
       "      <th>transformed_text</th>\n",
       "      <th>Positive_score</th>\n",
       "      <th>Negative_score</th>\n",
       "      <th>Polarity_score</th>\n",
       "      <th>Subjectivity_score</th>\n",
       "      <th>avg_sent_length</th>\n",
       "      <th>Complex_words</th>\n",
       "      <th>cleaned_word_count</th>\n",
       "      <th>syllable_count</th>\n",
       "      <th>average_word_length</th>\n",
       "      <th>percentage_complex_words</th>\n",
       "      <th>average_sentence_length</th>\n",
       "      <th>fog_index</th>\n",
       "      <th>average_words_per_sentence</th>\n",
       "    </tr>\n",
       "  </thead>\n",
       "  <tbody>\n",
       "    <tr>\n",
       "      <th>0</th>\n",
       "      <td>123.0</td>\n",
       "      <td>https://insights.blackcoffer.com/rise-of-telem...</td>\n",
       "      <td>Telemedicine, the use of technology to diagnos...</td>\n",
       "      <td>11091</td>\n",
       "      <td>1837</td>\n",
       "      <td>79</td>\n",
       "      <td>telemedicin technolog diagnos treat patient re...</td>\n",
       "      <td>16</td>\n",
       "      <td>10</td>\n",
       "      <td>0.230769</td>\n",
       "      <td>0.004037</td>\n",
       "      <td>23.253165</td>\n",
       "      <td>38</td>\n",
       "      <td>899</td>\n",
       "      <td>352</td>\n",
       "      <td>6</td>\n",
       "      <td>0</td>\n",
       "      <td>23</td>\n",
       "      <td>9.2</td>\n",
       "      <td>23</td>\n",
       "    </tr>\n",
       "    <tr>\n",
       "      <th>1</th>\n",
       "      <td>321.0</td>\n",
       "      <td>https://insights.blackcoffer.com/rise-of-e-hea...</td>\n",
       "      <td>The rise of e-health, or the use of electronic...</td>\n",
       "      <td>3919</td>\n",
       "      <td>648</td>\n",
       "      <td>24</td>\n",
       "      <td>the rise electron mean facilit health care maj...</td>\n",
       "      <td>5</td>\n",
       "      <td>5</td>\n",
       "      <td>0.000000</td>\n",
       "      <td>0.004822</td>\n",
       "      <td>27.000000</td>\n",
       "      <td>29</td>\n",
       "      <td>286</td>\n",
       "      <td>190</td>\n",
       "      <td>6</td>\n",
       "      <td>0</td>\n",
       "      <td>27</td>\n",
       "      <td>10.8</td>\n",
       "      <td>27</td>\n",
       "    </tr>\n",
       "    <tr>\n",
       "      <th>2</th>\n",
       "      <td>2345.0</td>\n",
       "      <td>https://insights.blackcoffer.com/rise-of-e-hea...</td>\n",
       "      <td>2020 was the year the world was ravaged by the...</td>\n",
       "      <td>6863</td>\n",
       "      <td>1199</td>\n",
       "      <td>68</td>\n",
       "      <td>2020 year world ravag sarscov2 viru thi notori...</td>\n",
       "      <td>11</td>\n",
       "      <td>14</td>\n",
       "      <td>-0.120000</td>\n",
       "      <td>0.006586</td>\n",
       "      <td>17.632353</td>\n",
       "      <td>44</td>\n",
       "      <td>561</td>\n",
       "      <td>411</td>\n",
       "      <td>5</td>\n",
       "      <td>0</td>\n",
       "      <td>17</td>\n",
       "      <td>6.8</td>\n",
       "      <td>17</td>\n",
       "    </tr>\n",
       "    <tr>\n",
       "      <th>3</th>\n",
       "      <td>4321.0</td>\n",
       "      <td>https://insights.blackcoffer.com/rise-of-telem...</td>\n",
       "      <td>“More gains on quality, affordability and acce...</td>\n",
       "      <td>8065</td>\n",
       "      <td>1354</td>\n",
       "      <td>59</td>\n",
       "      <td>more gain qualiti afford access what mean as w...</td>\n",
       "      <td>17</td>\n",
       "      <td>17</td>\n",
       "      <td>0.000000</td>\n",
       "      <td>0.007524</td>\n",
       "      <td>22.949153</td>\n",
       "      <td>42</td>\n",
       "      <td>656</td>\n",
       "      <td>499</td>\n",
       "      <td>5</td>\n",
       "      <td>0</td>\n",
       "      <td>22</td>\n",
       "      <td>8.8</td>\n",
       "      <td>22</td>\n",
       "    </tr>\n",
       "    <tr>\n",
       "      <th>4</th>\n",
       "      <td>432.0</td>\n",
       "      <td>https://insights.blackcoffer.com/rise-of-telem...</td>\n",
       "      <td>“More gains on quality, affordability and acce...</td>\n",
       "      <td>8065</td>\n",
       "      <td>1354</td>\n",
       "      <td>59</td>\n",
       "      <td>more gain qualiti afford access what mean as w...</td>\n",
       "      <td>17</td>\n",
       "      <td>17</td>\n",
       "      <td>0.000000</td>\n",
       "      <td>0.007524</td>\n",
       "      <td>22.949153</td>\n",
       "      <td>42</td>\n",
       "      <td>656</td>\n",
       "      <td>499</td>\n",
       "      <td>5</td>\n",
       "      <td>0</td>\n",
       "      <td>22</td>\n",
       "      <td>8.8</td>\n",
       "      <td>22</td>\n",
       "    </tr>\n",
       "    <tr>\n",
       "      <th>...</th>\n",
       "      <td>...</td>\n",
       "      <td>...</td>\n",
       "      <td>...</td>\n",
       "      <td>...</td>\n",
       "      <td>...</td>\n",
       "      <td>...</td>\n",
       "      <td>...</td>\n",
       "      <td>...</td>\n",
       "      <td>...</td>\n",
       "      <td>...</td>\n",
       "      <td>...</td>\n",
       "      <td>...</td>\n",
       "      <td>...</td>\n",
       "      <td>...</td>\n",
       "      <td>...</td>\n",
       "      <td>...</td>\n",
       "      <td>...</td>\n",
       "      <td>...</td>\n",
       "      <td>...</td>\n",
       "      <td>...</td>\n",
       "    </tr>\n",
       "    <tr>\n",
       "      <th>109</th>\n",
       "      <td>50921.0</td>\n",
       "      <td>https://insights.blackcoffer.com/coronavirus-i...</td>\n",
       "      <td>Before jumping on the topic I would like to gi...</td>\n",
       "      <td>2967</td>\n",
       "      <td>527</td>\n",
       "      <td>21</td>\n",
       "      <td>befor jump topic give overview coronaviru spre...</td>\n",
       "      <td>5</td>\n",
       "      <td>9</td>\n",
       "      <td>-0.285714</td>\n",
       "      <td>0.008663</td>\n",
       "      <td>25.095238</td>\n",
       "      <td>40</td>\n",
       "      <td>264</td>\n",
       "      <td>229</td>\n",
       "      <td>5</td>\n",
       "      <td>0</td>\n",
       "      <td>25</td>\n",
       "      <td>10.0</td>\n",
       "      <td>25</td>\n",
       "    </tr>\n",
       "    <tr>\n",
       "      <th>110</th>\n",
       "      <td>51382.8</td>\n",
       "      <td>https://insights.blackcoffer.com/coronavirus-i...</td>\n",
       "      <td>As the coronavirus spreads around the world an...</td>\n",
       "      <td>10515</td>\n",
       "      <td>1871</td>\n",
       "      <td>49</td>\n",
       "      <td>as coronaviru spread world countri implement c...</td>\n",
       "      <td>11</td>\n",
       "      <td>26</td>\n",
       "      <td>-0.405405</td>\n",
       "      <td>0.005754</td>\n",
       "      <td>38.183673</td>\n",
       "      <td>44</td>\n",
       "      <td>983</td>\n",
       "      <td>536</td>\n",
       "      <td>5</td>\n",
       "      <td>0</td>\n",
       "      <td>38</td>\n",
       "      <td>15.2</td>\n",
       "      <td>38</td>\n",
       "    </tr>\n",
       "    <tr>\n",
       "      <th>111</th>\n",
       "      <td>51844.6</td>\n",
       "      <td>https://insights.blackcoffer.com/what-are-the-...</td>\n",
       "      <td>From Alibaba to Ping An and Google to Ford, co...</td>\n",
       "      <td>10668</td>\n",
       "      <td>1885</td>\n",
       "      <td>70</td>\n",
       "      <td>from alibaba ping an googl ford compani globe ...</td>\n",
       "      <td>21</td>\n",
       "      <td>15</td>\n",
       "      <td>0.166667</td>\n",
       "      <td>0.006330</td>\n",
       "      <td>26.928571</td>\n",
       "      <td>45</td>\n",
       "      <td>883</td>\n",
       "      <td>678</td>\n",
       "      <td>5</td>\n",
       "      <td>0</td>\n",
       "      <td>26</td>\n",
       "      <td>10.4</td>\n",
       "      <td>26</td>\n",
       "    </tr>\n",
       "    <tr>\n",
       "      <th>112</th>\n",
       "      <td>52306.4</td>\n",
       "      <td>https://insights.blackcoffer.com/marketing-dri...</td>\n",
       "      <td>When the British ruled India, many Indians acc...</td>\n",
       "      <td>8627</td>\n",
       "      <td>1571</td>\n",
       "      <td>59</td>\n",
       "      <td>when british rule india indian accept work pol...</td>\n",
       "      <td>10</td>\n",
       "      <td>11</td>\n",
       "      <td>-0.047619</td>\n",
       "      <td>0.004897</td>\n",
       "      <td>26.627119</td>\n",
       "      <td>49</td>\n",
       "      <td>669</td>\n",
       "      <td>489</td>\n",
       "      <td>5</td>\n",
       "      <td>0</td>\n",
       "      <td>26</td>\n",
       "      <td>10.4</td>\n",
       "      <td>26</td>\n",
       "    </tr>\n",
       "    <tr>\n",
       "      <th>113</th>\n",
       "      <td>52768.2</td>\n",
       "      <td>https://insights.blackcoffer.com/continued-dem...</td>\n",
       "      <td>The business of business is no longer to do ju...</td>\n",
       "      <td>4541</td>\n",
       "      <td>746</td>\n",
       "      <td>27</td>\n",
       "      <td>the busi busi longer busi increas bottom line ...</td>\n",
       "      <td>5</td>\n",
       "      <td>11</td>\n",
       "      <td>-0.375000</td>\n",
       "      <td>0.006332</td>\n",
       "      <td>27.629630</td>\n",
       "      <td>44</td>\n",
       "      <td>376</td>\n",
       "      <td>330</td>\n",
       "      <td>6</td>\n",
       "      <td>0</td>\n",
       "      <td>27</td>\n",
       "      <td>10.8</td>\n",
       "      <td>27</td>\n",
       "    </tr>\n",
       "  </tbody>\n",
       "</table>\n",
       "<p>114 rows × 20 columns</p>\n",
       "</div>"
      ],
      "text/plain": [
       "      URL_ID                                                URL  \\\n",
       "0      123.0  https://insights.blackcoffer.com/rise-of-telem...   \n",
       "1      321.0  https://insights.blackcoffer.com/rise-of-e-hea...   \n",
       "2     2345.0  https://insights.blackcoffer.com/rise-of-e-hea...   \n",
       "3     4321.0  https://insights.blackcoffer.com/rise-of-telem...   \n",
       "4      432.0  https://insights.blackcoffer.com/rise-of-telem...   \n",
       "..       ...                                                ...   \n",
       "109  50921.0  https://insights.blackcoffer.com/coronavirus-i...   \n",
       "110  51382.8  https://insights.blackcoffer.com/coronavirus-i...   \n",
       "111  51844.6  https://insights.blackcoffer.com/what-are-the-...   \n",
       "112  52306.4  https://insights.blackcoffer.com/marketing-dri...   \n",
       "113  52768.2  https://insights.blackcoffer.com/continued-dem...   \n",
       "\n",
       "                                              url_text  num_characters  \\\n",
       "0    Telemedicine, the use of technology to diagnos...           11091   \n",
       "1    The rise of e-health, or the use of electronic...            3919   \n",
       "2    2020 was the year the world was ravaged by the...            6863   \n",
       "3    “More gains on quality, affordability and acce...            8065   \n",
       "4    “More gains on quality, affordability and acce...            8065   \n",
       "..                                                 ...             ...   \n",
       "109  Before jumping on the topic I would like to gi...            2967   \n",
       "110  As the coronavirus spreads around the world an...           10515   \n",
       "111  From Alibaba to Ping An and Google to Ford, co...           10668   \n",
       "112  When the British ruled India, many Indians acc...            8627   \n",
       "113  The business of business is no longer to do ju...            4541   \n",
       "\n",
       "     num_words  num_sentencecs  \\\n",
       "0         1837              79   \n",
       "1          648              24   \n",
       "2         1199              68   \n",
       "3         1354              59   \n",
       "4         1354              59   \n",
       "..         ...             ...   \n",
       "109        527              21   \n",
       "110       1871              49   \n",
       "111       1885              70   \n",
       "112       1571              59   \n",
       "113        746              27   \n",
       "\n",
       "                                      transformed_text  Positive_score  \\\n",
       "0    telemedicin technolog diagnos treat patient re...              16   \n",
       "1    the rise electron mean facilit health care maj...               5   \n",
       "2    2020 year world ravag sarscov2 viru thi notori...              11   \n",
       "3    more gain qualiti afford access what mean as w...              17   \n",
       "4    more gain qualiti afford access what mean as w...              17   \n",
       "..                                                 ...             ...   \n",
       "109  befor jump topic give overview coronaviru spre...               5   \n",
       "110  as coronaviru spread world countri implement c...              11   \n",
       "111  from alibaba ping an googl ford compani globe ...              21   \n",
       "112  when british rule india indian accept work pol...              10   \n",
       "113  the busi busi longer busi increas bottom line ...               5   \n",
       "\n",
       "     Negative_score  Polarity_score  Subjectivity_score  avg_sent_length  \\\n",
       "0                10        0.230769            0.004037        23.253165   \n",
       "1                 5        0.000000            0.004822        27.000000   \n",
       "2                14       -0.120000            0.006586        17.632353   \n",
       "3                17        0.000000            0.007524        22.949153   \n",
       "4                17        0.000000            0.007524        22.949153   \n",
       "..              ...             ...                 ...              ...   \n",
       "109               9       -0.285714            0.008663        25.095238   \n",
       "110              26       -0.405405            0.005754        38.183673   \n",
       "111              15        0.166667            0.006330        26.928571   \n",
       "112              11       -0.047619            0.004897        26.627119   \n",
       "113              11       -0.375000            0.006332        27.629630   \n",
       "\n",
       "     Complex_words  cleaned_word_count  syllable_count  average_word_length  \\\n",
       "0               38                 899             352                    6   \n",
       "1               29                 286             190                    6   \n",
       "2               44                 561             411                    5   \n",
       "3               42                 656             499                    5   \n",
       "4               42                 656             499                    5   \n",
       "..             ...                 ...             ...                  ...   \n",
       "109             40                 264             229                    5   \n",
       "110             44                 983             536                    5   \n",
       "111             45                 883             678                    5   \n",
       "112             49                 669             489                    5   \n",
       "113             44                 376             330                    6   \n",
       "\n",
       "     percentage_complex_words  average_sentence_length  fog_index  \\\n",
       "0                           0                       23        9.2   \n",
       "1                           0                       27       10.8   \n",
       "2                           0                       17        6.8   \n",
       "3                           0                       22        8.8   \n",
       "4                           0                       22        8.8   \n",
       "..                        ...                      ...        ...   \n",
       "109                         0                       25       10.0   \n",
       "110                         0                       38       15.2   \n",
       "111                         0                       26       10.4   \n",
       "112                         0                       26       10.4   \n",
       "113                         0                       27       10.8   \n",
       "\n",
       "     average_words_per_sentence  \n",
       "0                            23  \n",
       "1                            27  \n",
       "2                            17  \n",
       "3                            22  \n",
       "4                            22  \n",
       "..                          ...  \n",
       "109                          25  \n",
       "110                          38  \n",
       "111                          26  \n",
       "112                          26  \n",
       "113                          27  \n",
       "\n",
       "[114 rows x 20 columns]"
      ]
     },
     "execution_count": 107,
     "metadata": {},
     "output_type": "execute_result"
    }
   ],
   "source": [
    "df_link"
   ]
  },
  {
   "cell_type": "code",
   "execution_count": 111,
   "metadata": {},
   "outputs": [
    {
     "data": {
      "text/html": [
       "<div>\n",
       "<style scoped>\n",
       "    .dataframe tbody tr th:only-of-type {\n",
       "        vertical-align: middle;\n",
       "    }\n",
       "\n",
       "    .dataframe tbody tr th {\n",
       "        vertical-align: top;\n",
       "    }\n",
       "\n",
       "    .dataframe thead th {\n",
       "        text-align: right;\n",
       "    }\n",
       "</style>\n",
       "<table border=\"1\" class=\"dataframe\">\n",
       "  <thead>\n",
       "    <tr style=\"text-align: right;\">\n",
       "      <th></th>\n",
       "      <th>URL_ID</th>\n",
       "      <th>URL</th>\n",
       "      <th>url_text</th>\n",
       "      <th>num_characters</th>\n",
       "      <th>num_words</th>\n",
       "      <th>num_sentencecs</th>\n",
       "      <th>transformed_text</th>\n",
       "      <th>Positive_score</th>\n",
       "      <th>Negative_score</th>\n",
       "      <th>Polarity_score</th>\n",
       "      <th>Subjectivity_score</th>\n",
       "      <th>avg_sent_length</th>\n",
       "      <th>Complex_words</th>\n",
       "      <th>cleaned_word_count</th>\n",
       "      <th>syllable_count</th>\n",
       "      <th>average_word_length</th>\n",
       "      <th>percentage_complex_words</th>\n",
       "      <th>average_sentence_length</th>\n",
       "      <th>fog_index</th>\n",
       "      <th>average_words_per_sentence</th>\n",
       "    </tr>\n",
       "  </thead>\n",
       "  <tbody>\n",
       "    <tr>\n",
       "      <th>24</th>\n",
       "      <td>11668.0</td>\n",
       "      <td>https://insights.blackcoffer.com/how-neural-ne...</td>\n",
       "      <td>None</td>\n",
       "      <td>4</td>\n",
       "      <td>1</td>\n",
       "      <td>1</td>\n",
       "      <td>none</td>\n",
       "      <td>0</td>\n",
       "      <td>0</td>\n",
       "      <td>0.0</td>\n",
       "      <td>0.0</td>\n",
       "      <td>1.0</td>\n",
       "      <td>0</td>\n",
       "      <td>1</td>\n",
       "      <td>0</td>\n",
       "      <td>4</td>\n",
       "      <td>0</td>\n",
       "      <td>1</td>\n",
       "      <td>0.4</td>\n",
       "      <td>1</td>\n",
       "    </tr>\n",
       "  </tbody>\n",
       "</table>\n",
       "</div>"
      ],
      "text/plain": [
       "     URL_ID                                                URL url_text  \\\n",
       "24  11668.0  https://insights.blackcoffer.com/how-neural-ne...     None   \n",
       "\n",
       "    num_characters  num_words  num_sentencecs transformed_text  \\\n",
       "24               4          1               1             none   \n",
       "\n",
       "    Positive_score  Negative_score  Polarity_score  Subjectivity_score  \\\n",
       "24               0               0             0.0                 0.0   \n",
       "\n",
       "    avg_sent_length  Complex_words  cleaned_word_count  syllable_count  \\\n",
       "24              1.0              0                   1               0   \n",
       "\n",
       "    average_word_length  percentage_complex_words  average_sentence_length  \\\n",
       "24                    4                         0                        1   \n",
       "\n",
       "    fog_index  average_words_per_sentence  \n",
       "24        0.4                           1  "
      ]
     },
     "execution_count": 111,
     "metadata": {},
     "output_type": "execute_result"
    }
   ],
   "source": [
    "df_link[df_link.index==24]"
   ]
  },
  {
   "cell_type": "code",
   "execution_count": 109,
   "metadata": {},
   "outputs": [
    {
     "data": {
      "text/plain": [
       "'https://insights.blackcoffer.com/rise-of-telemedicine-and-its-impact-on-livelihood-by-2040-2/'"
      ]
     },
     "execution_count": 109,
     "metadata": {},
     "output_type": "execute_result"
    }
   ],
   "source": [
    "df_link['URL'][3]"
   ]
  },
  {
   "cell_type": "code",
   "execution_count": null,
   "metadata": {},
   "outputs": [],
   "source": []
  }
 ],
 "metadata": {
  "kernelspec": {
   "display_name": "Python311",
   "language": "python",
   "name": "python3"
  },
  "language_info": {
   "codemirror_mode": {
    "name": "ipython",
    "version": 3
   },
   "file_extension": ".py",
   "mimetype": "text/x-python",
   "name": "python",
   "nbconvert_exporter": "python",
   "pygments_lexer": "ipython3",
   "version": "3.11.3"
  },
  "orig_nbformat": 4
 },
 "nbformat": 4,
 "nbformat_minor": 2
}
